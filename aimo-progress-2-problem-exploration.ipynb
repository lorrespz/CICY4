{
 "cells": [
  {
   "cell_type": "code",
   "execution_count": 1,
   "id": "899b7a18",
   "metadata": {
    "_cell_guid": "b1076dfc-b9ad-4769-8c92-a6c4dae69d19",
    "_uuid": "8f2839f25d086af736a60e9eeb907d3b93b6e0e5",
    "execution": {
     "iopub.execute_input": "2025-04-02T11:25:52.371221Z",
     "iopub.status.busy": "2025-04-02T11:25:52.370838Z",
     "iopub.status.idle": "2025-04-02T11:25:53.414498Z",
     "shell.execute_reply": "2025-04-02T11:25:53.413085Z"
    },
    "papermill": {
     "duration": 1.05002,
     "end_time": "2025-04-02T11:25:53.416614",
     "exception": false,
     "start_time": "2025-04-02T11:25:52.366594",
     "status": "completed"
    },
    "tags": []
   },
   "outputs": [
    {
     "name": "stdout",
     "output_type": "stream",
     "text": [
      "/kaggle/input/ai-mathematical-olympiad-progress-prize-2/reference.csv\n",
      "/kaggle/input/ai-mathematical-olympiad-progress-prize-2/sample_submission.csv\n",
      "/kaggle/input/ai-mathematical-olympiad-progress-prize-2/AIMO_Progress_Prize_2_Reference_Problems_Solutions.pdf\n",
      "/kaggle/input/ai-mathematical-olympiad-progress-prize-2/test.csv\n",
      "/kaggle/input/ai-mathematical-olympiad-progress-prize-2/kaggle_evaluation/aimo_2_gateway.py\n",
      "/kaggle/input/ai-mathematical-olympiad-progress-prize-2/kaggle_evaluation/__init__.py\n",
      "/kaggle/input/ai-mathematical-olympiad-progress-prize-2/kaggle_evaluation/aimo_2_inference_server.py\n",
      "/kaggle/input/ai-mathematical-olympiad-progress-prize-2/kaggle_evaluation/core/templates.py\n",
      "/kaggle/input/ai-mathematical-olympiad-progress-prize-2/kaggle_evaluation/core/base_gateway.py\n",
      "/kaggle/input/ai-mathematical-olympiad-progress-prize-2/kaggle_evaluation/core/relay.py\n",
      "/kaggle/input/ai-mathematical-olympiad-progress-prize-2/kaggle_evaluation/core/kaggle_evaluation.proto\n",
      "/kaggle/input/ai-mathematical-olympiad-progress-prize-2/kaggle_evaluation/core/__init__.py\n",
      "/kaggle/input/ai-mathematical-olympiad-progress-prize-2/kaggle_evaluation/core/generated/kaggle_evaluation_pb2.py\n",
      "/kaggle/input/ai-mathematical-olympiad-progress-prize-2/kaggle_evaluation/core/generated/kaggle_evaluation_pb2_grpc.py\n",
      "/kaggle/input/ai-mathematical-olympiad-progress-prize-2/kaggle_evaluation/core/generated/__init__.py\n"
     ]
    }
   ],
   "source": [
    "import numpy as np # linear algebra\n",
    "import pandas as pd # data processing, CSV file I/O (e.g. pd.read_csv)\n",
    "\n",
    "import os\n",
    "for dirname, _, filenames in os.walk('/kaggle/input'):\n",
    "    for filename in filenames:\n",
    "        print(os.path.join(dirname, filename))\n"
   ]
  },
  {
   "cell_type": "code",
   "execution_count": 2,
   "id": "aa16dc4f",
   "metadata": {
    "execution": {
     "iopub.execute_input": "2025-04-02T11:25:53.423512Z",
     "iopub.status.busy": "2025-04-02T11:25:53.422959Z",
     "iopub.status.idle": "2025-04-02T11:25:53.448261Z",
     "shell.execute_reply": "2025-04-02T11:25:53.447076Z"
    },
    "papermill": {
     "duration": 0.030621,
     "end_time": "2025-04-02T11:25:53.450202",
     "exception": false,
     "start_time": "2025-04-02T11:25:53.419581",
     "status": "completed"
    },
    "tags": []
   },
   "outputs": [
    {
     "data": {
      "text/plain": [
       "Index(['id', 'problem', 'answer'], dtype='object')"
      ]
     },
     "execution_count": 2,
     "metadata": {},
     "output_type": "execute_result"
    }
   ],
   "source": [
    "df_ref = pd.read_csv('/kaggle/input/ai-mathematical-olympiad-progress-prize-2/reference.csv')\n",
    "df_ref.columns"
   ]
  },
  {
   "cell_type": "code",
   "execution_count": 3,
   "id": "9f61fc4d",
   "metadata": {
    "execution": {
     "iopub.execute_input": "2025-04-02T11:25:53.457160Z",
     "iopub.status.busy": "2025-04-02T11:25:53.456761Z",
     "iopub.status.idle": "2025-04-02T11:25:53.469221Z",
     "shell.execute_reply": "2025-04-02T11:25:53.468007Z"
    },
    "papermill": {
     "duration": 0.017812,
     "end_time": "2025-04-02T11:25:53.470857",
     "exception": false,
     "start_time": "2025-04-02T11:25:53.453045",
     "status": "completed"
    },
    "tags": []
   },
   "outputs": [
    {
     "data": {
      "text/plain": [
       "('Three airline companies operate flights from Dodola island. Each company has a different schedule of departures. The first company departs every 100 days, the second every 120 days and the third every 150 days. What is the greatest positive integer $d$ for which it is true that there will be $d$ consecutive days without a flight from Dodola island, regardless of the departure times of the various airlines?',\n",
       " 79)"
      ]
     },
     "execution_count": 3,
     "metadata": {},
     "output_type": "execute_result"
    }
   ],
   "source": [
    "df_ref['problem'][0],df_ref['answer'][0]"
   ]
  },
  {
   "cell_type": "code",
   "execution_count": 4,
   "id": "86cfd14c",
   "metadata": {
    "execution": {
     "iopub.execute_input": "2025-04-02T11:25:53.477499Z",
     "iopub.status.busy": "2025-04-02T11:25:53.477103Z",
     "iopub.status.idle": "2025-04-02T11:25:53.483117Z",
     "shell.execute_reply": "2025-04-02T11:25:53.482063Z"
    },
    "papermill": {
     "duration": 0.011079,
     "end_time": "2025-04-02T11:25:53.484744",
     "exception": false,
     "start_time": "2025-04-02T11:25:53.473665",
     "status": "completed"
    },
    "tags": []
   },
   "outputs": [
    {
     "data": {
      "text/plain": [
       "('Fred and George take part in a tennis tournament with $4046$ other players. In each round, the players are paired into $2024$ matches. How many ways are there to arrange the first round such that Fred and George do not have to play each other? (Two arrangements for the first round are \\\\textit{different} if there is a player with a different opponent in the two arrangements.)',\n",
       " 250)"
      ]
     },
     "execution_count": 4,
     "metadata": {},
     "output_type": "execute_result"
    }
   ],
   "source": [
    "df_ref['problem'][1], df_ref['answer'][1]"
   ]
  },
  {
   "cell_type": "code",
   "execution_count": 5,
   "id": "63f64da5",
   "metadata": {
    "execution": {
     "iopub.execute_input": "2025-04-02T11:25:53.491616Z",
     "iopub.status.busy": "2025-04-02T11:25:53.491217Z",
     "iopub.status.idle": "2025-04-02T11:25:53.524293Z",
     "shell.execute_reply": "2025-04-02T11:25:53.523201Z"
    },
    "papermill": {
     "duration": 0.038479,
     "end_time": "2025-04-02T11:25:53.526173",
     "exception": false,
     "start_time": "2025-04-02T11:25:53.487694",
     "status": "completed"
    },
    "tags": []
   },
   "outputs": [
    {
     "data": {
      "text/html": [
       "<div>\n",
       "<style scoped>\n",
       "    .dataframe tbody tr th:only-of-type {\n",
       "        vertical-align: middle;\n",
       "    }\n",
       "\n",
       "    .dataframe tbody tr th {\n",
       "        vertical-align: top;\n",
       "    }\n",
       "\n",
       "    .dataframe thead th {\n",
       "        text-align: right;\n",
       "    }\n",
       "</style>\n",
       "<table border=\"1\" class=\"dataframe\">\n",
       "  <thead>\n",
       "    <tr style=\"text-align: right;\">\n",
       "      <th></th>\n",
       "      <th>id</th>\n",
       "      <th>problem</th>\n",
       "    </tr>\n",
       "  </thead>\n",
       "  <tbody>\n",
       "    <tr>\n",
       "      <th>0</th>\n",
       "      <td>000aaa</td>\n",
       "      <td>What is $1-1$?</td>\n",
       "    </tr>\n",
       "    <tr>\n",
       "      <th>1</th>\n",
       "      <td>111bbb</td>\n",
       "      <td>What is $0\\times10$?</td>\n",
       "    </tr>\n",
       "    <tr>\n",
       "      <th>2</th>\n",
       "      <td>222ccc</td>\n",
       "      <td>Solve $4+x=4$ for $x$.</td>\n",
       "    </tr>\n",
       "  </tbody>\n",
       "</table>\n",
       "</div>"
      ],
      "text/plain": [
       "       id                 problem\n",
       "0  000aaa          What is $1-1$?\n",
       "1  111bbb    What is $0\\times10$?\n",
       "2  222ccc  Solve $4+x=4$ for $x$."
      ]
     },
     "execution_count": 5,
     "metadata": {},
     "output_type": "execute_result"
    }
   ],
   "source": [
    "df_test = pd.read_csv('/kaggle/input/ai-mathematical-olympiad-progress-prize-2/test.csv')\n",
    "df_test"
   ]
  },
  {
   "cell_type": "code",
   "execution_count": 6,
   "id": "063ac820",
   "metadata": {
    "execution": {
     "iopub.execute_input": "2025-04-02T11:25:53.533710Z",
     "iopub.status.busy": "2025-04-02T11:25:53.533192Z",
     "iopub.status.idle": "2025-04-02T11:25:53.549441Z",
     "shell.execute_reply": "2025-04-02T11:25:53.548359Z"
    },
    "papermill": {
     "duration": 0.022053,
     "end_time": "2025-04-02T11:25:53.551274",
     "exception": false,
     "start_time": "2025-04-02T11:25:53.529221",
     "status": "completed"
    },
    "tags": []
   },
   "outputs": [
    {
     "data": {
      "text/html": [
       "<div>\n",
       "<style scoped>\n",
       "    .dataframe tbody tr th:only-of-type {\n",
       "        vertical-align: middle;\n",
       "    }\n",
       "\n",
       "    .dataframe tbody tr th {\n",
       "        vertical-align: top;\n",
       "    }\n",
       "\n",
       "    .dataframe thead th {\n",
       "        text-align: right;\n",
       "    }\n",
       "</style>\n",
       "<table border=\"1\" class=\"dataframe\">\n",
       "  <thead>\n",
       "    <tr style=\"text-align: right;\">\n",
       "      <th></th>\n",
       "      <th>id</th>\n",
       "      <th>answer</th>\n",
       "    </tr>\n",
       "  </thead>\n",
       "  <tbody>\n",
       "    <tr>\n",
       "      <th>0</th>\n",
       "      <td>000aaa</td>\n",
       "      <td>0</td>\n",
       "    </tr>\n",
       "    <tr>\n",
       "      <th>1</th>\n",
       "      <td>111bbb</td>\n",
       "      <td>0</td>\n",
       "    </tr>\n",
       "    <tr>\n",
       "      <th>2</th>\n",
       "      <td>222ccc</td>\n",
       "      <td>0</td>\n",
       "    </tr>\n",
       "  </tbody>\n",
       "</table>\n",
       "</div>"
      ],
      "text/plain": [
       "       id  answer\n",
       "0  000aaa       0\n",
       "1  111bbb       0\n",
       "2  222ccc       0"
      ]
     },
     "execution_count": 6,
     "metadata": {},
     "output_type": "execute_result"
    }
   ],
   "source": [
    "df_sub = pd.read_csv('/kaggle/input/ai-mathematical-olympiad-progress-prize-2/sample_submission.csv')\n",
    "df_sub"
   ]
  },
  {
   "cell_type": "code",
   "execution_count": null,
   "id": "c81e87d9",
   "metadata": {
    "papermill": {
     "duration": 0.002821,
     "end_time": "2025-04-02T11:25:53.557294",
     "exception": false,
     "start_time": "2025-04-02T11:25:53.554473",
     "status": "completed"
    },
    "tags": []
   },
   "outputs": [],
   "source": []
  }
 ],
 "metadata": {
  "kaggle": {
   "accelerator": "none",
   "dataSources": [
    {
     "databundleVersionId": 11376393,
     "sourceId": 86023,
     "sourceType": "competition"
    }
   ],
   "dockerImageVersionId": 30918,
   "isGpuEnabled": false,
   "isInternetEnabled": true,
   "language": "python",
   "sourceType": "notebook"
  },
  "kernelspec": {
   "display_name": "Python 3",
   "language": "python",
   "name": "python3"
  },
  "language_info": {
   "codemirror_mode": {
    "name": "ipython",
    "version": 3
   },
   "file_extension": ".py",
   "mimetype": "text/x-python",
   "name": "python",
   "nbconvert_exporter": "python",
   "pygments_lexer": "ipython3",
   "version": "3.10.12"
  },
  "papermill": {
   "default_parameters": {},
   "duration": 4.688412,
   "end_time": "2025-04-02T11:25:54.180303",
   "environment_variables": {},
   "exception": null,
   "input_path": "__notebook__.ipynb",
   "output_path": "__notebook__.ipynb",
   "parameters": {},
   "start_time": "2025-04-02T11:25:49.491891",
   "version": "2.6.0"
  }
 },
 "nbformat": 4,
 "nbformat_minor": 5
}
