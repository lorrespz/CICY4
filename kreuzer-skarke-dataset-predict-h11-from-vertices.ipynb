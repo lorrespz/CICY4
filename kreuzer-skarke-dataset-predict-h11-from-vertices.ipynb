{
 "cells": [
  {
   "cell_type": "code",
   "execution_count": 1,
   "id": "37333cc2",
   "metadata": {
    "_cell_guid": "b1076dfc-b9ad-4769-8c92-a6c4dae69d19",
    "_uuid": "8f2839f25d086af736a60e9eeb907d3b93b6e0e5",
    "execution": {
     "iopub.execute_input": "2024-03-12T06:48:09.276392Z",
     "iopub.status.busy": "2024-03-12T06:48:09.276073Z",
     "iopub.status.idle": "2024-03-12T06:48:11.369298Z",
     "shell.execute_reply": "2024-03-12T06:48:11.368352Z"
    },
    "papermill": {
     "duration": 2.116317,
     "end_time": "2024-03-12T06:48:11.371566",
     "exception": false,
     "start_time": "2024-03-12T06:48:09.255249",
     "status": "completed"
    },
    "tags": []
   },
   "outputs": [],
   "source": [
    "import os\n",
    "import numpy as np \n",
    "import pandas as pd \n",
    "import seaborn as sns\n",
    "from datetime import datetime\n",
    "import matplotlib.pyplot as plt\n",
    "%matplotlib inline"
   ]
  },
  {
   "cell_type": "markdown",
   "id": "597a8b50",
   "metadata": {
    "papermill": {
     "duration": 0.019852,
     "end_time": "2024-03-12T06:48:11.410602",
     "exception": false,
     "start_time": "2024-03-12T06:48:11.390750",
     "status": "completed"
    },
    "tags": []
   },
   "source": [
    "The dataset is from Hugging Face dataset library at the following links:\n",
    "\n",
    "https://huggingface.co/datasets/calabi-yau-data/polytopes-4d\n",
    "\n",
    "https://huggingface.co/datasets/calabi-yau-data/ws-5d (5d polytope)\n",
    "\n",
    "however, trying to load the 4d polytopes dataset always give a TypeError."
   ]
  },
  {
   "cell_type": "code",
   "execution_count": 2,
   "id": "db3403c3",
   "metadata": {
    "execution": {
     "iopub.execute_input": "2024-03-12T06:48:11.449801Z",
     "iopub.status.busy": "2024-03-12T06:48:11.448896Z",
     "iopub.status.idle": "2024-03-12T06:48:11.452894Z",
     "shell.execute_reply": "2024-03-12T06:48:11.452073Z"
    },
    "papermill": {
     "duration": 0.025543,
     "end_time": "2024-03-12T06:48:11.454852",
     "exception": false,
     "start_time": "2024-03-12T06:48:11.429309",
     "status": "completed"
    },
    "tags": []
   },
   "outputs": [],
   "source": [
    "#!pip install datasets\n",
    "#!pip show datasets\n",
    "\n",
    "#from datasets import load_dataset\n",
    "#this return a TypeError\n",
    "#dataset = load_dataset(\"calabi-yau-data/polytopes-4d\")"
   ]
  },
  {
   "cell_type": "markdown",
   "id": "5433033e",
   "metadata": {
    "papermill": {
     "duration": 0.018407,
     "end_time": "2024-03-12T06:48:11.491872",
     "exception": false,
     "start_time": "2024-03-12T06:48:11.473465",
     "status": "completed"
    },
    "tags": []
   },
   "source": [
    "# Load data"
   ]
  },
  {
   "cell_type": "code",
   "execution_count": 3,
   "id": "6e60d0e2",
   "metadata": {
    "execution": {
     "iopub.execute_input": "2024-03-12T06:48:11.530879Z",
     "iopub.status.busy": "2024-03-12T06:48:11.530145Z",
     "iopub.status.idle": "2024-03-12T06:48:30.914146Z",
     "shell.execute_reply": "2024-03-12T06:48:30.913347Z"
    },
    "papermill": {
     "duration": 19.405762,
     "end_time": "2024-03-12T06:48:30.916483",
     "exception": false,
     "start_time": "2024-03-12T06:48:11.510721",
     "status": "completed"
    },
    "tags": []
   },
   "outputs": [],
   "source": [
    "path = '/kaggle/input/kreuzer-skarke-4d-polytopes/'\n",
    "df1 = pd.read_parquet(path+'polytopes-4d-08-vertices.parquet')\n",
    "df2 = pd.read_parquet(path+'polytopes-4d-09-vertices.parquet')"
   ]
  },
  {
   "cell_type": "code",
   "execution_count": 4,
   "id": "b1520700",
   "metadata": {
    "execution": {
     "iopub.execute_input": "2024-03-12T06:48:30.957289Z",
     "iopub.status.busy": "2024-03-12T06:48:30.956975Z",
     "iopub.status.idle": "2024-03-12T06:48:30.963876Z",
     "shell.execute_reply": "2024-03-12T06:48:30.963022Z"
    },
    "papermill": {
     "duration": 0.02999,
     "end_time": "2024-03-12T06:48:30.965830",
     "exception": false,
     "start_time": "2024-03-12T06:48:30.935840",
     "status": "completed"
    },
    "tags": []
   },
   "outputs": [
    {
     "data": {
      "text/plain": [
       "Index(['vertices', 'vertex_count', 'facet_count', 'point_count',\n",
       "       'dual_point_count', 'h11', 'h12', 'euler_characteristic'],\n",
       "      dtype='object')"
      ]
     },
     "execution_count": 4,
     "metadata": {},
     "output_type": "execute_result"
    }
   ],
   "source": [
    "df1.columns"
   ]
  },
  {
   "cell_type": "code",
   "execution_count": 5,
   "id": "9960792c",
   "metadata": {
    "execution": {
     "iopub.execute_input": "2024-03-12T06:48:31.005811Z",
     "iopub.status.busy": "2024-03-12T06:48:31.005100Z",
     "iopub.status.idle": "2024-03-12T06:48:31.010988Z",
     "shell.execute_reply": "2024-03-12T06:48:31.010269Z"
    },
    "papermill": {
     "duration": 0.027394,
     "end_time": "2024-03-12T06:48:31.012881",
     "exception": false,
     "start_time": "2024-03-12T06:48:30.985487",
     "status": "completed"
    },
    "tags": []
   },
   "outputs": [
    {
     "data": {
      "text/plain": [
       "(834638, 2867955, 3702593)"
      ]
     },
     "execution_count": 5,
     "metadata": {},
     "output_type": "execute_result"
    }
   ],
   "source": [
    "len(df1), len(df2), len(df1)+len(df2)"
   ]
  },
  {
   "cell_type": "code",
   "execution_count": 6,
   "id": "fa53f18b",
   "metadata": {
    "execution": {
     "iopub.execute_input": "2024-03-12T06:48:31.051733Z",
     "iopub.status.busy": "2024-03-12T06:48:31.051479Z",
     "iopub.status.idle": "2024-03-12T06:48:31.163045Z",
     "shell.execute_reply": "2024-03-12T06:48:31.162194Z"
    },
    "papermill": {
     "duration": 0.133329,
     "end_time": "2024-03-12T06:48:31.165100",
     "exception": false,
     "start_time": "2024-03-12T06:48:31.031771",
     "status": "completed"
    },
    "tags": []
   },
   "outputs": [
    {
     "data": {
      "text/plain": [
       "True"
      ]
     },
     "execution_count": 6,
     "metadata": {},
     "output_type": "execute_result"
    }
   ],
   "source": [
    "df = pd.concat([df1, df2], ignore_index=True)\n",
    "len(df)==len(df1)+len(df2)"
   ]
  },
  {
   "cell_type": "code",
   "execution_count": 7,
   "id": "21eb6fbc",
   "metadata": {
    "execution": {
     "iopub.execute_input": "2024-03-12T06:48:31.204546Z",
     "iopub.status.busy": "2024-03-12T06:48:31.204267Z",
     "iopub.status.idle": "2024-03-12T06:48:31.253352Z",
     "shell.execute_reply": "2024-03-12T06:48:31.252481Z"
    },
    "papermill": {
     "duration": 0.070677,
     "end_time": "2024-03-12T06:48:31.255220",
     "exception": false,
     "start_time": "2024-03-12T06:48:31.184543",
     "status": "completed"
    },
    "tags": []
   },
   "outputs": [
    {
     "data": {
      "text/html": [
       "<div>\n",
       "<style scoped>\n",
       "    .dataframe tbody tr th:only-of-type {\n",
       "        vertical-align: middle;\n",
       "    }\n",
       "\n",
       "    .dataframe tbody tr th {\n",
       "        vertical-align: top;\n",
       "    }\n",
       "\n",
       "    .dataframe thead th {\n",
       "        text-align: right;\n",
       "    }\n",
       "</style>\n",
       "<table border=\"1\" class=\"dataframe\">\n",
       "  <thead>\n",
       "    <tr style=\"text-align: right;\">\n",
       "      <th></th>\n",
       "      <th>vertices</th>\n",
       "      <th>vertex_count</th>\n",
       "      <th>facet_count</th>\n",
       "      <th>point_count</th>\n",
       "      <th>dual_point_count</th>\n",
       "      <th>h11</th>\n",
       "      <th>h12</th>\n",
       "      <th>euler_characteristic</th>\n",
       "    </tr>\n",
       "  </thead>\n",
       "  <tbody>\n",
       "    <tr>\n",
       "      <th>0</th>\n",
       "      <td>[[1, 0, 0, 0], [1, 2, 0, 0], [1, 2, 4, 0], [1,...</td>\n",
       "      <td>8</td>\n",
       "      <td>6</td>\n",
       "      <td>102</td>\n",
       "      <td>7</td>\n",
       "      <td>2</td>\n",
       "      <td>84</td>\n",
       "      <td>-164</td>\n",
       "    </tr>\n",
       "    <tr>\n",
       "      <th>1</th>\n",
       "      <td>[[1, 0, 0, 0], [1, 2, 0, 0], [1, 0, 4, 0], [1,...</td>\n",
       "      <td>8</td>\n",
       "      <td>6</td>\n",
       "      <td>105</td>\n",
       "      <td>7</td>\n",
       "      <td>2</td>\n",
       "      <td>86</td>\n",
       "      <td>-168</td>\n",
       "    </tr>\n",
       "    <tr>\n",
       "      <th>2</th>\n",
       "      <td>[[1, 0, 0, 0], [1, 4, 0, 0], [1, 0, 4, 0], [0,...</td>\n",
       "      <td>8</td>\n",
       "      <td>6</td>\n",
       "      <td>105</td>\n",
       "      <td>7</td>\n",
       "      <td>2</td>\n",
       "      <td>86</td>\n",
       "      <td>-168</td>\n",
       "    </tr>\n",
       "    <tr>\n",
       "      <th>3</th>\n",
       "      <td>[[1, 0, 0, 0], [0, 1, 0, 0], [3, 2, 4, 0], [3,...</td>\n",
       "      <td>8</td>\n",
       "      <td>6</td>\n",
       "      <td>106</td>\n",
       "      <td>7</td>\n",
       "      <td>2</td>\n",
       "      <td>86</td>\n",
       "      <td>-168</td>\n",
       "    </tr>\n",
       "    <tr>\n",
       "      <th>4</th>\n",
       "      <td>[[1, 0, 0, 0], [1, 3, 0, 0], [1, 0, 3, 0], [1,...</td>\n",
       "      <td>8</td>\n",
       "      <td>6</td>\n",
       "      <td>111</td>\n",
       "      <td>7</td>\n",
       "      <td>2</td>\n",
       "      <td>90</td>\n",
       "      <td>-176</td>\n",
       "    </tr>\n",
       "    <tr>\n",
       "      <th>...</th>\n",
       "      <td>...</td>\n",
       "      <td>...</td>\n",
       "      <td>...</td>\n",
       "      <td>...</td>\n",
       "      <td>...</td>\n",
       "      <td>...</td>\n",
       "      <td>...</td>\n",
       "      <td>...</td>\n",
       "    </tr>\n",
       "    <tr>\n",
       "      <th>3702588</th>\n",
       "      <td>[[1, 0, 0, 0], [0, 1, 0, 0], [0, 0, 1, 0], [-7...</td>\n",
       "      <td>9</td>\n",
       "      <td>9</td>\n",
       "      <td>243</td>\n",
       "      <td>237</td>\n",
       "      <td>168</td>\n",
       "      <td>174</td>\n",
       "      <td>-12</td>\n",
       "    </tr>\n",
       "    <tr>\n",
       "      <th>3702589</th>\n",
       "      <td>[[1, 0, 0, 0], [0, 1, 0, 0], [0, 0, 1, 0], [0,...</td>\n",
       "      <td>9</td>\n",
       "      <td>9</td>\n",
       "      <td>275</td>\n",
       "      <td>249</td>\n",
       "      <td>178</td>\n",
       "      <td>196</td>\n",
       "      <td>-36</td>\n",
       "    </tr>\n",
       "    <tr>\n",
       "      <th>3702590</th>\n",
       "      <td>[[1, 0, 0, 0], [0, 1, 0, 0], [0, 0, 1, 0], [0,...</td>\n",
       "      <td>9</td>\n",
       "      <td>9</td>\n",
       "      <td>249</td>\n",
       "      <td>275</td>\n",
       "      <td>196</td>\n",
       "      <td>178</td>\n",
       "      <td>36</td>\n",
       "    </tr>\n",
       "    <tr>\n",
       "      <th>3702591</th>\n",
       "      <td>[[1, 0, 0, 0], [0, 1, 0, 0], [0, 0, 1, 0], [0,...</td>\n",
       "      <td>9</td>\n",
       "      <td>9</td>\n",
       "      <td>251</td>\n",
       "      <td>251</td>\n",
       "      <td>179</td>\n",
       "      <td>179</td>\n",
       "      <td>0</td>\n",
       "    </tr>\n",
       "    <tr>\n",
       "      <th>3702592</th>\n",
       "      <td>[[1, 0, 0, 0], [0, 1, 0, 0], [0, 0, 1, 0], [0,...</td>\n",
       "      <td>9</td>\n",
       "      <td>9</td>\n",
       "      <td>273</td>\n",
       "      <td>273</td>\n",
       "      <td>195</td>\n",
       "      <td>195</td>\n",
       "      <td>0</td>\n",
       "    </tr>\n",
       "  </tbody>\n",
       "</table>\n",
       "<p>3702593 rows × 8 columns</p>\n",
       "</div>"
      ],
      "text/plain": [
       "                                                  vertices  vertex_count  \\\n",
       "0        [[1, 0, 0, 0], [1, 2, 0, 0], [1, 2, 4, 0], [1,...             8   \n",
       "1        [[1, 0, 0, 0], [1, 2, 0, 0], [1, 0, 4, 0], [1,...             8   \n",
       "2        [[1, 0, 0, 0], [1, 4, 0, 0], [1, 0, 4, 0], [0,...             8   \n",
       "3        [[1, 0, 0, 0], [0, 1, 0, 0], [3, 2, 4, 0], [3,...             8   \n",
       "4        [[1, 0, 0, 0], [1, 3, 0, 0], [1, 0, 3, 0], [1,...             8   \n",
       "...                                                    ...           ...   \n",
       "3702588  [[1, 0, 0, 0], [0, 1, 0, 0], [0, 0, 1, 0], [-7...             9   \n",
       "3702589  [[1, 0, 0, 0], [0, 1, 0, 0], [0, 0, 1, 0], [0,...             9   \n",
       "3702590  [[1, 0, 0, 0], [0, 1, 0, 0], [0, 0, 1, 0], [0,...             9   \n",
       "3702591  [[1, 0, 0, 0], [0, 1, 0, 0], [0, 0, 1, 0], [0,...             9   \n",
       "3702592  [[1, 0, 0, 0], [0, 1, 0, 0], [0, 0, 1, 0], [0,...             9   \n",
       "\n",
       "         facet_count  point_count  dual_point_count  h11  h12  \\\n",
       "0                  6          102                 7    2   84   \n",
       "1                  6          105                 7    2   86   \n",
       "2                  6          105                 7    2   86   \n",
       "3                  6          106                 7    2   86   \n",
       "4                  6          111                 7    2   90   \n",
       "...              ...          ...               ...  ...  ...   \n",
       "3702588            9          243               237  168  174   \n",
       "3702589            9          275               249  178  196   \n",
       "3702590            9          249               275  196  178   \n",
       "3702591            9          251               251  179  179   \n",
       "3702592            9          273               273  195  195   \n",
       "\n",
       "         euler_characteristic  \n",
       "0                        -164  \n",
       "1                        -168  \n",
       "2                        -168  \n",
       "3                        -168  \n",
       "4                        -176  \n",
       "...                       ...  \n",
       "3702588                   -12  \n",
       "3702589                   -36  \n",
       "3702590                    36  \n",
       "3702591                     0  \n",
       "3702592                     0  \n",
       "\n",
       "[3702593 rows x 8 columns]"
      ]
     },
     "execution_count": 7,
     "metadata": {},
     "output_type": "execute_result"
    }
   ],
   "source": [
    "df"
   ]
  },
  {
   "cell_type": "markdown",
   "id": "7d25c6a9",
   "metadata": {
    "papermill": {
     "duration": 0.019096,
     "end_time": "2024-03-12T06:48:31.293946",
     "exception": false,
     "start_time": "2024-03-12T06:48:31.274850",
     "status": "completed"
    },
    "tags": []
   },
   "source": [
    "# EDA"
   ]
  },
  {
   "cell_type": "markdown",
   "id": "ca7eec04",
   "metadata": {
    "papermill": {
     "duration": 0.019172,
     "end_time": "2024-03-12T06:48:31.332512",
     "exception": false,
     "start_time": "2024-03-12T06:48:31.313340",
     "status": "completed"
    },
    "tags": []
   },
   "source": [
    "## Vertices"
   ]
  },
  {
   "cell_type": "code",
   "execution_count": 8,
   "id": "3bc3ae65",
   "metadata": {
    "execution": {
     "iopub.execute_input": "2024-03-12T06:48:31.372697Z",
     "iopub.status.busy": "2024-03-12T06:48:31.372430Z",
     "iopub.status.idle": "2024-03-12T06:48:31.380331Z",
     "shell.execute_reply": "2024-03-12T06:48:31.379451Z"
    },
    "papermill": {
     "duration": 0.030544,
     "end_time": "2024-03-12T06:48:31.382376",
     "exception": false,
     "start_time": "2024-03-12T06:48:31.351832",
     "status": "completed"
    },
    "tags": []
   },
   "outputs": [
    {
     "data": {
      "text/plain": [
       "(dtype('O'),\n",
       " array([array([1, 0, 0, 0], dtype=int32), array([1, 2, 0, 0], dtype=int32),\n",
       "        array([1, 2, 4, 0], dtype=int32), array([1, 2, 0, 4], dtype=int32),\n",
       "        array([ 0,  1, -1, -1], dtype=int32),\n",
       "        array([ 0,  1,  4, -1], dtype=int32),\n",
       "        array([ 0,  1, -1,  4], dtype=int32),\n",
       "        array([-5, -9, -6, -6], dtype=int32)], dtype=object))"
      ]
     },
     "execution_count": 8,
     "metadata": {},
     "output_type": "execute_result"
    }
   ],
   "source": [
    " df.vertices.iloc[0].dtype, df.vertices.iloc[0]"
   ]
  },
  {
   "cell_type": "code",
   "execution_count": 9,
   "id": "e11c2e6d",
   "metadata": {
    "execution": {
     "iopub.execute_input": "2024-03-12T06:48:31.424612Z",
     "iopub.status.busy": "2024-03-12T06:48:31.424350Z",
     "iopub.status.idle": "2024-03-12T06:48:31.463667Z",
     "shell.execute_reply": "2024-03-12T06:48:31.462866Z"
    },
    "papermill": {
     "duration": 0.061937,
     "end_time": "2024-03-12T06:48:31.465462",
     "exception": false,
     "start_time": "2024-03-12T06:48:31.403525",
     "status": "completed"
    },
    "tags": []
   },
   "outputs": [
    {
     "data": {
      "text/plain": [
       "(2, array([8, 9], dtype=int32))"
      ]
     },
     "execution_count": 9,
     "metadata": {},
     "output_type": "execute_result"
    }
   ],
   "source": [
    "df['vertex_count'].nunique(),df['vertex_count'].unique()"
   ]
  },
  {
   "cell_type": "code",
   "execution_count": 10,
   "id": "46b429ec",
   "metadata": {
    "execution": {
     "iopub.execute_input": "2024-03-12T06:48:31.505791Z",
     "iopub.status.busy": "2024-03-12T06:48:31.505533Z",
     "iopub.status.idle": "2024-03-12T06:48:31.525930Z",
     "shell.execute_reply": "2024-03-12T06:48:31.525174Z"
    },
    "papermill": {
     "duration": 0.042546,
     "end_time": "2024-03-12T06:48:31.527722",
     "exception": false,
     "start_time": "2024-03-12T06:48:31.485176",
     "status": "completed"
    },
    "tags": []
   },
   "outputs": [
    {
     "data": {
      "text/plain": [
       "array([ 6,  7, 12, 16, 14, 15, 13, 17, 11, 10,  9, 18,  8, 19, 20, 21, 24,\n",
       "       23], dtype=int32)"
      ]
     },
     "execution_count": 10,
     "metadata": {},
     "output_type": "execute_result"
    }
   ],
   "source": [
    "df['facet_count'].unique()"
   ]
  },
  {
   "cell_type": "code",
   "execution_count": 11,
   "id": "aeb18c44",
   "metadata": {
    "execution": {
     "iopub.execute_input": "2024-03-12T06:48:31.568056Z",
     "iopub.status.busy": "2024-03-12T06:48:31.567825Z",
     "iopub.status.idle": "2024-03-12T06:48:31.606809Z",
     "shell.execute_reply": "2024-03-12T06:48:31.606007Z"
    },
    "papermill": {
     "duration": 0.061162,
     "end_time": "2024-03-12T06:48:31.608642",
     "exception": false,
     "start_time": "2024-03-12T06:48:31.547480",
     "status": "completed"
    },
    "tags": []
   },
   "outputs": [
    {
     "data": {
      "text/plain": [
       "(471,\n",
       " array([102, 105, 106, 111, 129, 130, 136, 156, 159,  81,  80,  85,  88,\n",
       "         90,  94,  87,  99, 100, 110, 120, 126, 122, 131, 132, 144, 147,\n",
       "        153, 155, 171, 224, 214, 186,  29,   9,  53,  57,  59,  63,  74,\n",
       "         66,  64,  10,  69,  75,  76,  70,  91,  79,  86,  96,  92, 103,\n",
       "        107, 114, 115, 112,  95, 113, 117, 108, 123, 124,  97, 116, 127,\n",
       "        137, 139, 141, 134, 140, 143, 145, 154, 169, 177, 175, 182, 172,\n",
       "        200, 166, 191, 226, 262, 277, 275, 293, 311,  37,  42,  46,  52,\n",
       "         47,  51,  55,  56,  58,  62,  11,  65,  67,  12,  61,  71,  83,\n",
       "         78,  84,  89,  93,  68,  82, 101, 104, 118, 125, 119, 128, 135,\n",
       "        138, 142, 160, 158, 161, 163,  13, 162, 183, 185, 188, 219, 221,\n",
       "        222, 236, 234, 241, 253, 251, 254, 270, 271, 281, 288, 294,  33,\n",
       "         41,  45,  49,  44,  48,  50,  54,  14,  60,  72,  77,  73,  98,\n",
       "        133,  15, 148, 149, 152, 146, 165, 174, 109, 173, 178, 167, 180,\n",
       "        179, 196, 208, 210, 211, 212, 194, 209, 213, 202, 206, 231, 230,\n",
       "        235, 228, 240, 247, 245, 238, 243, 242, 250, 257, 258, 276, 284,\n",
       "        306, 309, 314, 342,  27,  28,  32,  31,  39,  36,  43,  40,  16,\n",
       "        121, 150, 170, 168, 184, 164, 193, 199, 207, 203, 192, 201, 197,\n",
       "        195, 204, 215, 205, 216, 218, 229, 227, 232, 246, 244, 239, 249,\n",
       "        252, 265, 264, 269, 274, 283, 282, 304, 339,  30,  38,  34,  35,\n",
       "         17, 157, 151, 176, 181, 187, 190, 223, 233, 260, 259, 268, 290,\n",
       "        334, 333, 328, 346, 345,  23,  26,  18,  19, 220, 217, 255, 248,\n",
       "        266, 272, 292, 291, 308, 327, 325, 341, 340, 344,  25,  20, 189,\n",
       "        198, 225, 237, 287, 285, 286, 316, 317, 312, 321, 326, 330, 329,\n",
       "        365, 394, 404, 443, 482,  22,  21, 263, 256, 273, 278, 289, 305,\n",
       "        313, 354, 353, 371, 476, 480,  24, 261, 267, 279, 298, 356, 436,\n",
       "        439, 435, 457, 453, 299, 315, 396, 398, 395, 412, 411, 400, 399,\n",
       "        357, 355, 372, 393, 390, 389, 387, 378, 376, 558, 307, 349, 366,\n",
       "        363, 360, 359, 397, 401, 517, 518, 534, 535, 296, 302, 343, 350,\n",
       "        379, 383, 386, 478, 477, 495, 493, 494, 511, 512, 297, 310, 320,\n",
       "        338, 438, 437, 454, 455, 452, 471, 470, 472, 301, 332, 335, 413,\n",
       "        414, 415, 430, 429, 432, 448, 318, 358, 373, 374, 375, 370, 391,\n",
       "        392, 388, 408, 488, 331, 351, 352, 348, 347, 367, 421, 465, 469,\n",
       "        485, 295, 368, 381, 380, 410, 427, 428, 319, 336, 369, 462, 466,\n",
       "        280, 300, 364, 418, 419, 422, 420, 423, 426, 424, 425, 447, 303,\n",
       "        323, 337, 377, 385, 361, 384, 324, 407, 409, 444, 442, 322, 382,\n",
       "        403, 405, 416, 362, 402, 441, 456, 433, 519, 431, 505, 406, 445,\n",
       "        467, 458, 417], dtype=int32))"
      ]
     },
     "execution_count": 11,
     "metadata": {},
     "output_type": "execute_result"
    }
   ],
   "source": [
    "df['point_count'].nunique(), df['point_count'].unique()"
   ]
  },
  {
   "cell_type": "markdown",
   "id": "4ef9e469",
   "metadata": {
    "papermill": {
     "duration": 0.019725,
     "end_time": "2024-03-12T06:48:31.648392",
     "exception": false,
     "start_time": "2024-03-12T06:48:31.628667",
     "status": "completed"
    },
    "tags": []
   },
   "source": [
    "## Hodge number h11"
   ]
  },
  {
   "cell_type": "code",
   "execution_count": 12,
   "id": "5f670fca",
   "metadata": {
    "execution": {
     "iopub.execute_input": "2024-03-12T06:48:31.689529Z",
     "iopub.status.busy": "2024-03-12T06:48:31.689292Z",
     "iopub.status.idle": "2024-03-12T06:48:31.727664Z",
     "shell.execute_reply": "2024-03-12T06:48:31.726826Z"
    },
    "papermill": {
     "duration": 0.060858,
     "end_time": "2024-03-12T06:48:31.729475",
     "exception": false,
     "start_time": "2024-03-12T06:48:31.668617",
     "status": "completed"
    },
    "tags": []
   },
   "outputs": [
    {
     "data": {
      "text/plain": [
       "(349,\n",
       " array([  2,   3,   4,  28,  36,  44,  46,  49,  52,  54,  55,  56,  58,\n",
       "         59,  60,  61,  62,  63,  64,  65,  66,  67,  68,  69,  70,  71,\n",
       "         72,  73,  74,  76,  77,  78,  79,  80,  81,  82,  84,  85,  86,\n",
       "         88,  89,  90,  91,  92,  93,  94,  96,  97,  98, 100, 101, 102,\n",
       "        104, 106, 108, 110, 112, 114, 116, 118, 121, 124, 128,   5,  35,\n",
       "         37,  39,  40,  41,  43,  45,  47,  50,  51,  53,  57,  75,  83,\n",
       "         87,  95,  99, 103, 105, 107, 109, 111, 113, 115, 117, 119, 122,\n",
       "        123, 125, 127, 129, 131, 133, 135, 137, 139, 141, 143, 145, 149,\n",
       "        153, 161, 165, 173, 177, 179, 185, 189, 197, 201, 215,  26,   6,\n",
       "         30,  32,  33,  34,  38,  42,  48, 120, 126, 132, 136, 138, 140,\n",
       "        142, 144, 148, 150, 152, 156, 160, 162, 164, 168, 171, 172, 174,\n",
       "        176, 180, 182, 184, 186, 192, 196, 198, 204, 210,   7,  27,  29,\n",
       "         31, 147, 151, 154, 155, 157, 159, 163, 167, 169, 175, 178, 181,\n",
       "        183, 187, 193, 199, 205, 211, 217, 219, 227,  22,  24,   8, 130,\n",
       "        134, 146, 158, 166, 170, 188, 190, 194, 202, 206, 216, 218, 226,\n",
       "        242,   9,  21,  25, 191, 213, 221, 223, 225, 233, 237, 239, 240,\n",
       "        249, 267, 294,  18,  20,  10, 208, 214, 220, 222, 230, 232, 244,\n",
       "        292,  19,  11,  23, 195, 203, 207, 235, 248, 263, 275, 291, 319,\n",
       "         12, 200, 212, 234, 246, 258, 262, 264, 290, 318, 330,  17,  13,\n",
       "        209, 229, 245, 261, 273, 289, 301, 313,  14,  16, 228, 260, 272,\n",
       "        284, 404,  15, 231, 243, 255, 271, 283, 375, 387, 224, 238, 250,\n",
       "        252, 254, 346, 358, 370, 386, 241, 251, 253, 269, 317, 329, 341,\n",
       "        369, 236, 268, 288, 300, 312, 324, 340, 356, 259, 295, 339, 266,\n",
       "        302, 308, 310, 326, 279, 285, 297, 309, 311, 321, 345, 256, 274,\n",
       "        280, 282, 296, 334, 338, 247, 265, 287, 303, 305, 323, 331, 270,\n",
       "        276, 306, 257, 277, 316, 320, 315, 286, 304, 314, 293, 307, 278,\n",
       "        298, 299, 281, 357, 377, 328, 366, 327, 355, 332, 322], dtype=int32))"
      ]
     },
     "execution_count": 12,
     "metadata": {},
     "output_type": "execute_result"
    }
   ],
   "source": [
    "df['h11'].nunique(), df['h11'].unique()"
   ]
  },
  {
   "cell_type": "code",
   "execution_count": 13,
   "id": "7bfa6515",
   "metadata": {
    "execution": {
     "iopub.execute_input": "2024-03-12T06:48:31.770799Z",
     "iopub.status.busy": "2024-03-12T06:48:31.770562Z",
     "iopub.status.idle": "2024-03-12T06:48:35.079860Z",
     "shell.execute_reply": "2024-03-12T06:48:35.078920Z"
    },
    "papermill": {
     "duration": 3.332341,
     "end_time": "2024-03-12T06:48:35.081916",
     "exception": false,
     "start_time": "2024-03-12T06:48:31.749575",
     "status": "completed"
    },
    "tags": []
   },
   "outputs": [
    {
     "name": "stderr",
     "output_type": "stream",
     "text": [
      "/opt/conda/lib/python3.10/site-packages/seaborn/_oldcore.py:1119: FutureWarning: use_inf_as_na option is deprecated and will be removed in a future version. Convert inf values to NaN before operating instead.\n",
      "  with pd.option_context('mode.use_inf_as_na', True):\n"
     ]
    },
    {
     "data": {
      "text/plain": [
       "<Axes: xlabel='h11', ylabel='Count'>"
      ]
     },
     "execution_count": 13,
     "metadata": {},
     "output_type": "execute_result"
    },
    {
     "data": {
      "image/png": "[encoded data removed]",
      "text/plain": [
       "<Figure size 640x480 with 1 Axes>"
      ]
     },
     "metadata": {},
     "output_type": "display_data"
    }
   ],
   "source": [
    "sns.histplot(data=df, x=\"h11\")"
   ]
  },
  {
   "cell_type": "code",
   "execution_count": 14,
   "id": "8319bf49",
   "metadata": {
    "execution": {
     "iopub.execute_input": "2024-03-12T06:48:35.163215Z",
     "iopub.status.busy": "2024-03-12T06:48:35.162524Z",
     "iopub.status.idle": "2024-03-12T06:48:35.235477Z",
     "shell.execute_reply": "2024-03-12T06:48:35.234555Z"
    },
    "papermill": {
     "duration": 0.096738,
     "end_time": "2024-03-12T06:48:35.237421",
     "exception": false,
     "start_time": "2024-03-12T06:48:35.140683",
     "status": "completed"
    },
    "tags": []
   },
   "outputs": [
    {
     "data": {
      "text/plain": [
       "count    3.702593e+06\n",
       "mean     5.117092e+01\n",
       "std      2.863529e+01\n",
       "min      2.000000e+00\n",
       "25%      3.100000e+01\n",
       "50%      4.500000e+01\n",
       "75%      6.400000e+01\n",
       "max      4.040000e+02\n",
       "Name: h11, dtype: float64"
      ]
     },
     "execution_count": 14,
     "metadata": {},
     "output_type": "execute_result"
    }
   ],
   "source": [
    "df.h11.describe()"
   ]
  },
  {
   "cell_type": "markdown",
   "id": "dd6c1f1f",
   "metadata": {
    "papermill": {
     "duration": 0.021163,
     "end_time": "2024-03-12T06:48:35.280284",
     "exception": false,
     "start_time": "2024-03-12T06:48:35.259121",
     "status": "completed"
    },
    "tags": []
   },
   "source": [
    "## Hodge number h12"
   ]
  },
  {
   "cell_type": "code",
   "execution_count": 15,
   "id": "ee718bdb",
   "metadata": {
    "execution": {
     "iopub.execute_input": "2024-03-12T06:48:35.332711Z",
     "iopub.status.busy": "2024-03-12T06:48:35.331837Z",
     "iopub.status.idle": "2024-03-12T06:48:35.371582Z",
     "shell.execute_reply": "2024-03-12T06:48:35.370713Z"
    },
    "papermill": {
     "duration": 0.072172,
     "end_time": "2024-03-12T06:48:35.373529",
     "exception": false,
     "start_time": "2024-03-12T06:48:35.301357",
     "status": "completed"
    },
    "tags": []
   },
   "outputs": [
    {
     "data": {
      "text/plain": [
       "(349,\n",
       " array([ 84,  86,  90, 102, 106, 122,  69,  72,  73,  75,  77,  81,  87,\n",
       "         99, 111, 115, 127, 165,  28,   4,  44,  52,  58,  60,  64,  66,\n",
       "         68,  70,  74,  76,  80,  82,  88,  94,  98, 100, 104, 108, 110,\n",
       "        112, 114, 116, 128, 130, 136, 148, 166, 194, 202, 214, 226,  35,\n",
       "          5,  39,  41,  43,  47,  49,  51,  53,  55,  59,  61,  62,  63,\n",
       "         65,  67,  71,  79,  83,  85,  89,  91,  93,  95,  97, 101, 105,\n",
       "        107, 109, 113, 119, 125, 133, 135, 137, 139, 161, 173, 179, 185,\n",
       "        197, 205, 209, 213,   6,  30,  34,  38,  42,  46,  48,  50,  54,\n",
       "         78,  92,  96, 118, 120, 124, 126, 132, 138, 142, 144, 150, 152,\n",
       "        156, 160, 162, 168, 174, 176, 180, 182, 186, 188, 192, 204, 210,\n",
       "        222, 228, 248,  25,   7,  27,  29,  31,  33,  37,  40,  45,  57,\n",
       "        103, 121, 123, 131, 141, 143, 145, 147, 151, 153, 155, 157, 159,\n",
       "        163, 167, 169, 171, 175, 181, 187, 193, 199, 223, 247,   8,  26,\n",
       "         32,  36,  56, 134, 140, 146, 154, 158, 164, 170, 178, 184, 190,\n",
       "        206, 216, 242, 250,  21,   9,  23,  24, 117, 129, 149, 177, 183,\n",
       "        189, 191, 201, 225, 237, 239, 249,  10,  22, 172, 196, 208, 220,\n",
       "        230, 232, 236, 244, 264, 292, 320, 348,  11,  19, 203, 211, 215,\n",
       "        221, 227, 235, 263, 275, 347,  18,  12,  20, 198, 234, 246, 318,\n",
       "        330,  13, 195, 217, 229, 245, 289, 301,  16,  14, 200, 212, 218,\n",
       "        260, 272, 284, 404,  15,  17, 207, 231, 243, 255, 267, 271, 291,\n",
       "        375, 387, 238, 262, 280, 282, 346, 358, 370, 386, 233, 251, 253,\n",
       "        269, 317, 329, 341, 369, 224, 240, 288, 300, 312, 324, 340, 356,\n",
       "        241, 259, 283, 295, 319, 339, 355, 254, 266, 290, 302, 308, 310,\n",
       "        326, 338, 350, 219, 261, 273, 279, 285, 297, 309, 311, 256, 268,\n",
       "        274, 296, 334, 265, 287, 303, 305, 323, 331, 258, 270, 276, 306,\n",
       "        257, 277, 294, 316, 315, 286, 304, 314, 293, 307, 278, 298, 299,\n",
       "        281, 252, 321, 313, 357, 377, 328, 366, 327, 345, 332], dtype=int32))"
      ]
     },
     "execution_count": 15,
     "metadata": {},
     "output_type": "execute_result"
    }
   ],
   "source": [
    "df['h12'].nunique(), df['h12'].unique()"
   ]
  },
  {
   "cell_type": "code",
   "execution_count": 16,
   "id": "45e2ff34",
   "metadata": {
    "execution": {
     "iopub.execute_input": "2024-03-12T06:48:35.416500Z",
     "iopub.status.busy": "2024-03-12T06:48:35.416216Z",
     "iopub.status.idle": "2024-03-12T06:48:35.484342Z",
     "shell.execute_reply": "2024-03-12T06:48:35.483423Z"
    },
    "papermill": {
     "duration": 0.091897,
     "end_time": "2024-03-12T06:48:35.486336",
     "exception": false,
     "start_time": "2024-03-12T06:48:35.394439",
     "status": "completed"
    },
    "tags": []
   },
   "outputs": [
    {
     "data": {
      "text/plain": [
       "count    3.702593e+06\n",
       "mean     3.779034e+01\n",
       "std      2.808243e+01\n",
       "min      4.000000e+00\n",
       "25%      1.900000e+01\n",
       "50%      3.000000e+01\n",
       "75%      4.700000e+01\n",
       "max      4.040000e+02\n",
       "Name: h12, dtype: float64"
      ]
     },
     "execution_count": 16,
     "metadata": {},
     "output_type": "execute_result"
    }
   ],
   "source": [
    "df.h12.describe()"
   ]
  },
  {
   "cell_type": "code",
   "execution_count": 17,
   "id": "cb76bec7",
   "metadata": {
    "execution": {
     "iopub.execute_input": "2024-03-12T06:48:35.530277Z",
     "iopub.status.busy": "2024-03-12T06:48:35.529968Z",
     "iopub.status.idle": "2024-03-12T06:48:38.996915Z",
     "shell.execute_reply": "2024-03-12T06:48:38.995771Z"
    },
    "papermill": {
     "duration": 3.491112,
     "end_time": "2024-03-12T06:48:38.999025",
     "exception": false,
     "start_time": "2024-03-12T06:48:35.507913",
     "status": "completed"
    },
    "tags": []
   },
   "outputs": [
    {
     "name": "stderr",
     "output_type": "stream",
     "text": [
      "/opt/conda/lib/python3.10/site-packages/seaborn/_oldcore.py:1119: FutureWarning: use_inf_as_na option is deprecated and will be removed in a future version. Convert inf values to NaN before operating instead.\n",
      "  with pd.option_context('mode.use_inf_as_na', True):\n"
     ]
    },
    {
     "data": {
      "text/plain": [
       "<Axes: xlabel='h12', ylabel='Count'>"
      ]
     },
     "execution_count": 17,
     "metadata": {},
     "output_type": "execute_result"
    },
    {
     "data": {
      "image/png": "[encoded data removed]",
      "text/plain": [
       "<Figure size 640x480 with 1 Axes>"
      ]
     },
     "metadata": {},
     "output_type": "display_data"
    }
   ],
   "source": [
    "sns.histplot(data=df, x=\"h12\")"
   ]
  },
  {
   "cell_type": "markdown",
   "id": "28e9b493",
   "metadata": {
    "papermill": {
     "duration": 0.021773,
     "end_time": "2024-03-12T06:48:39.043281",
     "exception": false,
     "start_time": "2024-03-12T06:48:39.021508",
     "status": "completed"
    },
    "tags": []
   },
   "source": [
    "## Euler Characteristic = 2*h11 - 2*h12"
   ]
  },
  {
   "cell_type": "code",
   "execution_count": 18,
   "id": "dff3f1db",
   "metadata": {
    "execution": {
     "iopub.execute_input": "2024-03-12T06:48:39.088917Z",
     "iopub.status.busy": "2024-03-12T06:48:39.088401Z",
     "iopub.status.idle": "2024-03-12T06:48:39.117725Z",
     "shell.execute_reply": "2024-03-12T06:48:39.116901Z"
    },
    "papermill": {
     "duration": 0.054552,
     "end_time": "2024-03-12T06:48:39.119598",
     "exception": false,
     "start_time": "2024-03-12T06:48:39.065046",
     "status": "completed"
    },
    "tags": []
   },
   "outputs": [
    {
     "data": {
      "text/plain": [
       "0          True\n",
       "1          True\n",
       "2          True\n",
       "3          True\n",
       "4          True\n",
       "           ... \n",
       "3702588    True\n",
       "3702589    True\n",
       "3702590    True\n",
       "3702591    True\n",
       "3702592    True\n",
       "Length: 3702593, dtype: bool"
      ]
     },
     "execution_count": 18,
     "metadata": {},
     "output_type": "execute_result"
    }
   ],
   "source": [
    "#this column is identical to the Euler characteristic \n",
    "df['2h11-2h12'] = 2*df['h11'] - 2*df['h12']\n",
    "df['2h11-2h12']==df['euler_characteristic']"
   ]
  },
  {
   "cell_type": "markdown",
   "id": "06a8b37b",
   "metadata": {
    "papermill": {
     "duration": 0.021492,
     "end_time": "2024-03-12T06:48:39.164635",
     "exception": false,
     "start_time": "2024-03-12T06:48:39.143143",
     "status": "completed"
    },
    "tags": []
   },
   "source": [
    "# Prepare data for training"
   ]
  },
  {
   "cell_type": "code",
   "execution_count": 19,
   "id": "844de7ad",
   "metadata": {
    "execution": {
     "iopub.execute_input": "2024-03-12T06:48:39.209447Z",
     "iopub.status.busy": "2024-03-12T06:48:39.209188Z",
     "iopub.status.idle": "2024-03-12T06:48:39.214919Z",
     "shell.execute_reply": "2024-03-12T06:48:39.214117Z"
    },
    "papermill": {
     "duration": 0.030194,
     "end_time": "2024-03-12T06:48:39.216763",
     "exception": false,
     "start_time": "2024-03-12T06:48:39.186569",
     "status": "completed"
    },
    "tags": []
   },
   "outputs": [
    {
     "data": {
      "text/plain": [
       "Index(['h11', 'h12', 'euler_characteristic', '2h11-2h12'], dtype='object')"
      ]
     },
     "execution_count": 19,
     "metadata": {},
     "output_type": "execute_result"
    }
   ],
   "source": [
    "df.columns[-4:]"
   ]
  },
  {
   "cell_type": "code",
   "execution_count": 20,
   "id": "34c5b429",
   "metadata": {
    "execution": {
     "iopub.execute_input": "2024-03-12T06:48:39.262019Z",
     "iopub.status.busy": "2024-03-12T06:48:39.261365Z",
     "iopub.status.idle": "2024-03-12T06:48:39.266991Z",
     "shell.execute_reply": "2024-03-12T06:48:39.266132Z"
    },
    "papermill": {
     "duration": 0.03019,
     "end_time": "2024-03-12T06:48:39.268831",
     "exception": false,
     "start_time": "2024-03-12T06:48:39.238641",
     "status": "completed"
    },
    "tags": []
   },
   "outputs": [
    {
     "data": {
      "text/plain": [
       "array([  2,   2,   2, ..., 196, 179, 195], dtype=int32)"
      ]
     },
     "execution_count": 20,
     "metadata": {},
     "output_type": "execute_result"
    }
   ],
   "source": [
    "dfy = df['h11']\n",
    "y = dfy.to_numpy()\n",
    "y"
   ]
  },
  {
   "cell_type": "markdown",
   "id": "d0dd261a",
   "metadata": {
    "papermill": {
     "duration": 0.021778,
     "end_time": "2024-03-12T06:48:39.313507",
     "exception": false,
     "start_time": "2024-03-12T06:48:39.291729",
     "status": "completed"
    },
    "tags": []
   },
   "source": [
    "# Get rid of the strange format for 'vertices'"
   ]
  },
  {
   "cell_type": "code",
   "execution_count": 21,
   "id": "39dbf339",
   "metadata": {
    "execution": {
     "iopub.execute_input": "2024-03-12T06:48:39.358775Z",
     "iopub.status.busy": "2024-03-12T06:48:39.358526Z",
     "iopub.status.idle": "2024-03-12T06:48:39.362529Z",
     "shell.execute_reply": "2024-03-12T06:48:39.361694Z"
    },
    "papermill": {
     "duration": 0.02854,
     "end_time": "2024-03-12T06:48:39.364367",
     "exception": false,
     "start_time": "2024-03-12T06:48:39.335827",
     "status": "completed"
    },
    "tags": []
   },
   "outputs": [],
   "source": [
    "x_ver = df1['vertices'].to_numpy()"
   ]
  },
  {
   "cell_type": "code",
   "execution_count": 22,
   "id": "2c3844d6",
   "metadata": {
    "execution": {
     "iopub.execute_input": "2024-03-12T06:48:39.410039Z",
     "iopub.status.busy": "2024-03-12T06:48:39.409802Z",
     "iopub.status.idle": "2024-03-12T06:48:39.415032Z",
     "shell.execute_reply": "2024-03-12T06:48:39.414224Z"
    },
    "papermill": {
     "duration": 0.030038,
     "end_time": "2024-03-12T06:48:39.416940",
     "exception": false,
     "start_time": "2024-03-12T06:48:39.386902",
     "status": "completed"
    },
    "tags": []
   },
   "outputs": [
    {
     "data": {
      "text/plain": [
       "((834638,), (8,))"
      ]
     },
     "execution_count": 22,
     "metadata": {},
     "output_type": "execute_result"
    }
   ],
   "source": [
    "x_ver.shape, x_ver[0].shape"
   ]
  },
  {
   "cell_type": "code",
   "execution_count": 23,
   "id": "c00d8edb",
   "metadata": {
    "execution": {
     "iopub.execute_input": "2024-03-12T06:48:39.462829Z",
     "iopub.status.busy": "2024-03-12T06:48:39.462074Z",
     "iopub.status.idle": "2024-03-12T06:49:07.809369Z",
     "shell.execute_reply": "2024-03-12T06:49:07.808359Z"
    },
    "papermill": {
     "duration": 28.372328,
     "end_time": "2024-03-12T06:49:07.811695",
     "exception": false,
     "start_time": "2024-03-12T06:48:39.439367",
     "status": "completed"
    },
    "tags": []
   },
   "outputs": [],
   "source": [
    "#get rid of the strange format with dtype=object\n",
    "#make sure the shape is a square for easy convolution\n",
    "x8 = np.zeros((len(df1), 8, 8))\n",
    "for i in range(len(df1)):\n",
    "    for j in range(8):\n",
    "        for k in range(4):\n",
    "            x8[i, j, k] = x_ver[i][j][k]"
   ]
  },
  {
   "cell_type": "markdown",
   "id": "5718ce73",
   "metadata": {
    "papermill": {
     "duration": 0.022184,
     "end_time": "2024-03-12T06:49:07.856679",
     "exception": false,
     "start_time": "2024-03-12T06:49:07.834495",
     "status": "completed"
    },
    "tags": []
   },
   "source": [
    "# Model building: Polytopes with 8 vertices\n",
    "\n",
    "We will train an ANN or a CNN to predict the h11 value of the polytopes with 8 vertices first. The only input is the vertices list and nothing else. "
   ]
  },
  {
   "cell_type": "code",
   "execution_count": 24,
   "id": "28815da7",
   "metadata": {
    "execution": {
     "iopub.execute_input": "2024-03-12T06:49:07.902885Z",
     "iopub.status.busy": "2024-03-12T06:49:07.902577Z",
     "iopub.status.idle": "2024-03-12T06:49:07.912222Z",
     "shell.execute_reply": "2024-03-12T06:49:07.911343Z"
    },
    "papermill": {
     "duration": 0.034924,
     "end_time": "2024-03-12T06:49:07.914216",
     "exception": false,
     "start_time": "2024-03-12T06:49:07.879292",
     "status": "completed"
    },
    "tags": []
   },
   "outputs": [
    {
     "data": {
      "text/plain": [
       "(array([[ 1.,  0.,  0.,  0.,  0.,  0.,  0.,  0.],\n",
       "        [ 1.,  2.,  0.,  0.,  0.,  0.,  0.,  0.],\n",
       "        [ 1.,  2.,  4.,  0.,  0.,  0.,  0.,  0.],\n",
       "        [ 1.,  2.,  0.,  4.,  0.,  0.,  0.,  0.],\n",
       "        [ 0.,  1., -1., -1.,  0.,  0.,  0.,  0.],\n",
       "        [ 0.,  1.,  4., -1.,  0.,  0.,  0.,  0.],\n",
       "        [ 0.,  1., -1.,  4.,  0.,  0.,  0.,  0.],\n",
       "        [-5., -9., -6., -6.,  0.,  0.,  0.,  0.]]),\n",
       " array([[ 1.,  0.,  0.,  0.,  0.,  0.,  0.,  0.],\n",
       "        [ 1.,  4.,  0.,  0.,  0.,  0.,  0.,  0.],\n",
       "        [ 1.,  0.,  4.,  0.,  0.,  0.,  0.,  0.],\n",
       "        [ 0.,  0.,  0.,  1.,  0.,  0.,  0.,  0.],\n",
       "        [ 0.,  0., -4.,  1.,  0.,  0.,  0.,  0.],\n",
       "        [ 0.,  4., -4.,  1.,  0.,  0.,  0.,  0.],\n",
       "        [-1., -4.,  4., -2.,  0.,  0.,  0.,  0.],\n",
       "        [-4., -4., -8.,  1.,  0.,  0.,  0.,  0.]]),\n",
       " array([[  1.,   0.,   0.,   0.,   0.,   0.,   0.,   0.],\n",
       "        [  0.,   1.,   0.,   0.,   0.,   0.,   0.,   0.],\n",
       "        [  0.,   0.,   1.,   0.,   0.,   0.,   0.,   0.],\n",
       "        [  0.,   0.,   0.,   1.,   0.,   0.,   0.,   0.],\n",
       "        [-14.,  -8.,  -4.,  -1.,   0.,   0.,   0.,   0.],\n",
       "        [-15.,  -9.,  -4.,  -1.,   0.,   0.,   0.,   0.],\n",
       "        [-21., -13.,  -6.,  -1.,   0.,   0.,   0.,   0.],\n",
       "        [-21., -42.,  -6.,  28.,   0.,   0.,   0.,   0.]]),\n",
       " array([[   1.,    0.,    0.,    0.,    0.,    0.,    0.,    0.],\n",
       "        [   0.,    1.,    0.,    0.,    0.,    0.,    0.,    0.],\n",
       "        [   0.,    0.,    1.,    0.,    0.,    0.,    0.,    0.],\n",
       "        [   0.,    0.,    0.,    1.,    0.,    0.,    0.,    0.],\n",
       "        [  -3.,   -2.,   -1.,    1.,    0.,    0.,    0.,    0.],\n",
       "        [ -21.,  -14.,   -6.,    0.,    0.,    0.,    0.,    0.],\n",
       "        [ -93.,  -62.,  -24.,   -6.,    0.,    0.,    0.,    0.],\n",
       "        [-471., -314., -126.,  -30.,    0.,    0.,    0.,    0.]]))"
      ]
     },
     "execution_count": 24,
     "metadata": {},
     "output_type": "execute_result"
    }
   ],
   "source": [
    "x8[0], x8[10], x8[-10], x8[-1]"
   ]
  },
  {
   "cell_type": "code",
   "execution_count": 25,
   "id": "ee6dabb2",
   "metadata": {
    "execution": {
     "iopub.execute_input": "2024-03-12T06:49:07.961806Z",
     "iopub.status.busy": "2024-03-12T06:49:07.961248Z",
     "iopub.status.idle": "2024-03-12T06:49:08.532907Z",
     "shell.execute_reply": "2024-03-12T06:49:08.531994Z"
    },
    "papermill": {
     "duration": 0.597113,
     "end_time": "2024-03-12T06:49:08.534941",
     "exception": false,
     "start_time": "2024-03-12T06:49:07.937828",
     "status": "completed"
    },
    "tags": []
   },
   "outputs": [
    {
     "data": {
      "text/plain": [
       "<matplotlib.image.AxesImage at 0x7e189a452fb0>"
      ]
     },
     "execution_count": 25,
     "metadata": {},
     "output_type": "execute_result"
    },
    {
     "data": {
      "image/png": "[encoded data removed]",
      "text/plain": [
       "<Figure size 640x480 with 4 Axes>"
      ]
     },
     "metadata": {},
     "output_type": "display_data"
    }
   ],
   "source": [
    "#plt.figsize((12,12))\n",
    "fig, axs = plt.subplots(2, 2)\n",
    "axs[0,0].imshow(x8[0])\n",
    "axs[0,1].imshow(x8[10])\n",
    "axs[1,0].imshow(x8[-10])\n",
    "axs[1,1].imshow(x8[-1])"
   ]
  },
  {
   "cell_type": "markdown",
   "id": "641f2f23",
   "metadata": {
    "papermill": {
     "duration": 0.023143,
     "end_time": "2024-03-12T06:49:08.581542",
     "exception": false,
     "start_time": "2024-03-12T06:49:08.558399",
     "status": "completed"
    },
    "tags": []
   },
   "source": [
    "# Train test split"
   ]
  },
  {
   "cell_type": "code",
   "execution_count": 26,
   "id": "e96b6503",
   "metadata": {
    "execution": {
     "iopub.execute_input": "2024-03-12T06:49:08.628474Z",
     "iopub.status.busy": "2024-03-12T06:49:08.628142Z",
     "iopub.status.idle": "2024-03-12T06:49:08.634230Z",
     "shell.execute_reply": "2024-03-12T06:49:08.633218Z"
    },
    "papermill": {
     "duration": 0.031648,
     "end_time": "2024-03-12T06:49:08.636094",
     "exception": false,
     "start_time": "2024-03-12T06:49:08.604446",
     "status": "completed"
    },
    "tags": []
   },
   "outputs": [
    {
     "data": {
      "text/plain": [
       "dtype('int32')"
      ]
     },
     "execution_count": 26,
     "metadata": {},
     "output_type": "execute_result"
    }
   ],
   "source": [
    "y8 = y[:len(df1)]\n",
    "y8.dtype"
   ]
  },
  {
   "cell_type": "code",
   "execution_count": 27,
   "id": "0ce6dc67",
   "metadata": {
    "execution": {
     "iopub.execute_input": "2024-03-12T06:49:08.682533Z",
     "iopub.status.busy": "2024-03-12T06:49:08.682281Z",
     "iopub.status.idle": "2024-03-12T06:49:08.687980Z",
     "shell.execute_reply": "2024-03-12T06:49:08.687130Z"
    },
    "papermill": {
     "duration": 0.031144,
     "end_time": "2024-03-12T06:49:08.689939",
     "exception": false,
     "start_time": "2024-03-12T06:49:08.658795",
     "status": "completed"
    },
    "tags": []
   },
   "outputs": [
    {
     "data": {
      "text/plain": [
       "((834638, 8, 8), (834638,))"
      ]
     },
     "execution_count": 27,
     "metadata": {},
     "output_type": "execute_result"
    }
   ],
   "source": [
    "x8.shape, y8.shape"
   ]
  },
  {
   "cell_type": "code",
   "execution_count": 28,
   "id": "8823e3de",
   "metadata": {
    "execution": {
     "iopub.execute_input": "2024-03-12T06:49:08.738611Z",
     "iopub.status.busy": "2024-03-12T06:49:08.738040Z",
     "iopub.status.idle": "2024-03-12T06:49:08.988526Z",
     "shell.execute_reply": "2024-03-12T06:49:08.987724Z"
    },
    "papermill": {
     "duration": 0.277435,
     "end_time": "2024-03-12T06:49:08.990833",
     "exception": false,
     "start_time": "2024-03-12T06:49:08.713398",
     "status": "completed"
    },
    "tags": []
   },
   "outputs": [],
   "source": [
    "from sklearn.model_selection import train_test_split"
   ]
  },
  {
   "cell_type": "code",
   "execution_count": 29,
   "id": "0865e148",
   "metadata": {
    "execution": {
     "iopub.execute_input": "2024-03-12T06:49:09.038891Z",
     "iopub.status.busy": "2024-03-12T06:49:09.038433Z",
     "iopub.status.idle": "2024-03-12T06:49:09.268983Z",
     "shell.execute_reply": "2024-03-12T06:49:09.268116Z"
    },
    "papermill": {
     "duration": 0.256967,
     "end_time": "2024-03-12T06:49:09.271433",
     "exception": false,
     "start_time": "2024-03-12T06:49:09.014466",
     "status": "completed"
    },
    "tags": []
   },
   "outputs": [],
   "source": [
    "X_train, X_test, y_train, y_test  = train_test_split(x8, y8, test_size=0.2,  random_state=42, shuffle=True)"
   ]
  },
  {
   "cell_type": "code",
   "execution_count": 30,
   "id": "a2a7a39e",
   "metadata": {
    "execution": {
     "iopub.execute_input": "2024-03-12T06:49:09.321531Z",
     "iopub.status.busy": "2024-03-12T06:49:09.321220Z",
     "iopub.status.idle": "2024-03-12T06:49:09.327514Z",
     "shell.execute_reply": "2024-03-12T06:49:09.326672Z"
    },
    "papermill": {
     "duration": 0.033179,
     "end_time": "2024-03-12T06:49:09.329481",
     "exception": false,
     "start_time": "2024-03-12T06:49:09.296302",
     "status": "completed"
    },
    "tags": []
   },
   "outputs": [
    {
     "data": {
      "text/plain": [
       "((667710, 8, 8), (667710,), (166928, 8, 8), (166928,))"
      ]
     },
     "execution_count": 30,
     "metadata": {},
     "output_type": "execute_result"
    }
   ],
   "source": [
    "X_train.shape, y_train.shape, X_test.shape, y_test.shape"
   ]
  },
  {
   "cell_type": "markdown",
   "id": "a55dee01",
   "metadata": {
    "papermill": {
     "duration": 0.023834,
     "end_time": "2024-03-12T06:49:09.376741",
     "exception": false,
     "start_time": "2024-03-12T06:49:09.352907",
     "status": "completed"
    },
    "tags": []
   },
   "source": [
    "# Prepare data"
   ]
  },
  {
   "cell_type": "code",
   "execution_count": 31,
   "id": "0aab0c96",
   "metadata": {
    "execution": {
     "iopub.execute_input": "2024-03-12T06:49:09.425050Z",
     "iopub.status.busy": "2024-03-12T06:49:09.424365Z",
     "iopub.status.idle": "2024-03-12T06:49:16.422784Z",
     "shell.execute_reply": "2024-03-12T06:49:16.421995Z"
    },
    "papermill": {
     "duration": 7.024631,
     "end_time": "2024-03-12T06:49:16.425084",
     "exception": false,
     "start_time": "2024-03-12T06:49:09.400453",
     "status": "completed"
    },
    "tags": []
   },
   "outputs": [],
   "source": [
    "import torch\n",
    "import torchvision\n",
    "\n",
    "import torch.nn as nn\n",
    "import torch.nn.functional as F\n",
    "from sklearn.utils import shuffle"
   ]
  },
  {
   "cell_type": "code",
   "execution_count": 32,
   "id": "c1b5bbda",
   "metadata": {
    "execution": {
     "iopub.execute_input": "2024-03-12T06:49:16.474783Z",
     "iopub.status.busy": "2024-03-12T06:49:16.473036Z",
     "iopub.status.idle": "2024-03-12T06:49:16.563026Z",
     "shell.execute_reply": "2024-03-12T06:49:16.562142Z"
    },
    "papermill": {
     "duration": 0.116313,
     "end_time": "2024-03-12T06:49:16.565225",
     "exception": false,
     "start_time": "2024-03-12T06:49:16.448912",
     "status": "completed"
    },
    "tags": []
   },
   "outputs": [
    {
     "name": "stdout",
     "output_type": "stream",
     "text": [
      "cuda:0\n"
     ]
    }
   ],
   "source": [
    "if torch.cuda.is_available():\n",
    "    device = torch.device('cuda:0')\n",
    "else:\n",
    "    device = torch.device('cpu')\n",
    "\n",
    "print(device)"
   ]
  },
  {
   "cell_type": "code",
   "execution_count": 33,
   "id": "9d83f112",
   "metadata": {
    "execution": {
     "iopub.execute_input": "2024-03-12T06:49:16.613082Z",
     "iopub.status.busy": "2024-03-12T06:49:16.612822Z",
     "iopub.status.idle": "2024-03-12T06:49:16.700219Z",
     "shell.execute_reply": "2024-03-12T06:49:16.699403Z"
    },
    "papermill": {
     "duration": 0.11367,
     "end_time": "2024-03-12T06:49:16.702400",
     "exception": false,
     "start_time": "2024-03-12T06:49:16.588730",
     "status": "completed"
    },
    "tags": []
   },
   "outputs": [],
   "source": [
    "X_train = torch.from_numpy(X_train.astype(np.float32))\n",
    "y_train = torch.from_numpy(y_train.astype(np.float32).reshape(-1, 1))\n",
    "\n",
    "X_test = torch.from_numpy(X_test.astype(np.float32))\n",
    "y_test = torch.from_numpy(y_test.astype(np.float32).reshape(-1, 1))"
   ]
  },
  {
   "cell_type": "code",
   "execution_count": 34,
   "id": "ec4d0923",
   "metadata": {
    "execution": {
     "iopub.execute_input": "2024-03-12T06:49:16.751252Z",
     "iopub.status.busy": "2024-03-12T06:49:16.750944Z",
     "iopub.status.idle": "2024-03-12T06:49:16.755346Z",
     "shell.execute_reply": "2024-03-12T06:49:16.754613Z"
    },
    "papermill": {
     "duration": 0.030635,
     "end_time": "2024-03-12T06:49:16.757242",
     "exception": false,
     "start_time": "2024-03-12T06:49:16.726607",
     "status": "completed"
    },
    "tags": []
   },
   "outputs": [],
   "source": [
    "if not os.path.exists('saved_models'):\n",
    "    os.makedirs('saved_models')"
   ]
  },
  {
   "cell_type": "markdown",
   "id": "4fab8158",
   "metadata": {
    "papermill": {
     "duration": 0.023206,
     "end_time": "2024-03-12T06:49:16.804226",
     "exception": false,
     "start_time": "2024-03-12T06:49:16.781020",
     "status": "completed"
    },
    "tags": []
   },
   "source": [
    "# Build models"
   ]
  },
  {
   "cell_type": "markdown",
   "id": "09cc88b9",
   "metadata": {
    "papermill": {
     "duration": 0.023014,
     "end_time": "2024-03-12T06:49:16.850569",
     "exception": false,
     "start_time": "2024-03-12T06:49:16.827555",
     "status": "completed"
    },
    "tags": []
   },
   "source": [
    "## ANN"
   ]
  },
  {
   "cell_type": "code",
   "execution_count": 35,
   "id": "954b0b9a",
   "metadata": {
    "execution": {
     "iopub.execute_input": "2024-03-12T06:49:16.898746Z",
     "iopub.status.busy": "2024-03-12T06:49:16.898458Z",
     "iopub.status.idle": "2024-03-12T06:49:16.907072Z",
     "shell.execute_reply": "2024-03-12T06:49:16.906020Z"
    },
    "papermill": {
     "duration": 0.034938,
     "end_time": "2024-03-12T06:49:16.909007",
     "exception": false,
     "start_time": "2024-03-12T06:49:16.874069",
     "status": "completed"
    },
    "tags": []
   },
   "outputs": [],
   "source": [
    "class ANN_KS_h11_new(nn.Module):\n",
    "    \n",
    "    def __init__(self):\n",
    "        super().__init__()\n",
    "        self.flat = nn.Flatten()\n",
    "        self.linear1 = nn.Linear(64,1024)\n",
    "        self.bn1 = nn.BatchNorm1d(1024)\n",
    "        self.linear2 = nn.Linear(1024,512)\n",
    "        self.bn2 = nn.BatchNorm1d(512)\n",
    "        self.linear3 = nn.Linear(512,256)\n",
    "        self.bn3 = nn.BatchNorm1d(256)\n",
    "        self.linear4 = nn.Linear(256,64)\n",
    "        self.bn4 = nn.BatchNorm1d(64)\n",
    "        self.linear5 = nn.Linear(64,1)\n",
    "\n",
    "    def forward(self,x):\n",
    "        x = self.flat(x)\n",
    "        x = F.relu(self.bn1(self.linear1(x)))\n",
    "        x = F.relu(self.bn2(self.linear2(x)))\n",
    "        x = F.relu(self.bn3(self.linear3(x)))\n",
    "        x = F.relu(self.bn4(self.linear4(x)))\n",
    "        x = self.linear5(x)\n",
    "        \n",
    "        return x"
   ]
  },
  {
   "cell_type": "markdown",
   "id": "7111df75",
   "metadata": {
    "papermill": {
     "duration": 0.022887,
     "end_time": "2024-03-12T06:49:16.955268",
     "exception": false,
     "start_time": "2024-03-12T06:49:16.932381",
     "status": "completed"
    },
    "tags": []
   },
   "source": [
    "## CNN"
   ]
  },
  {
   "cell_type": "code",
   "execution_count": 36,
   "id": "8b60d7f0",
   "metadata": {
    "execution": {
     "iopub.execute_input": "2024-03-12T06:49:17.002908Z",
     "iopub.status.busy": "2024-03-12T06:49:17.002626Z",
     "iopub.status.idle": "2024-03-12T06:49:17.011487Z",
     "shell.execute_reply": "2024-03-12T06:49:17.010625Z"
    },
    "papermill": {
     "duration": 0.034968,
     "end_time": "2024-03-12T06:49:17.013337",
     "exception": false,
     "start_time": "2024-03-12T06:49:16.978369",
     "status": "completed"
    },
    "tags": []
   },
   "outputs": [],
   "source": [
    "class CNN_KS_h11_new(nn.Module):\n",
    "    \n",
    "    def __init__(self):\n",
    "        super().__init__()\n",
    "        self.conv1 = nn.Conv2d(1,64, 3, 1)\n",
    "        self.bn1 = nn.BatchNorm2d(64)\n",
    "        self.conv2 = nn.Conv2d(64,32, 2, 1)\n",
    "        self.bn2 = nn.BatchNorm2d(32)\n",
    "        self.mxpool = nn.MaxPool2d(2,2)\n",
    "        self.flat = nn.Flatten()\n",
    "        self.conv_total = nn.Sequential(\n",
    "            self.conv1,\n",
    "            self.bn1,\n",
    "            self.mxpool,\n",
    "            self.conv2,\n",
    "            self.bn2,\n",
    "            self.mxpool\n",
    "        )\n",
    "        \n",
    "        self.linear1 = nn.Linear(32,1024)\n",
    "        self.linear2 = nn.Linear(1024,512)\n",
    "        self.linear3 = nn.Linear(512,128)\n",
    "        self.linear4 = nn.Linear(128,1)\n",
    "\n",
    "    def forward(self,x):\n",
    "        x = F.relu(self.conv_total(x))\n",
    "        x = self.flat(x)\n",
    "        x = F.relu(self.linear1(x))\n",
    "        x = F.relu(self.linear2(x))\n",
    "        x = F.relu(self.linear3(x))\n",
    "        x = self.linear4(x)\n",
    "        \n",
    "        return x"
   ]
  },
  {
   "cell_type": "markdown",
   "id": "58cc40ea",
   "metadata": {
    "papermill": {
     "duration": 0.023029,
     "end_time": "2024-03-12T06:49:17.059588",
     "exception": false,
     "start_time": "2024-03-12T06:49:17.036559",
     "status": "completed"
    },
    "tags": []
   },
   "source": [
    "## Define a function for the train loop"
   ]
  },
  {
   "cell_type": "code",
   "execution_count": 37,
   "id": "93634826",
   "metadata": {
    "execution": {
     "iopub.execute_input": "2024-03-12T06:49:17.107532Z",
     "iopub.status.busy": "2024-03-12T06:49:17.107278Z",
     "iopub.status.idle": "2024-03-12T06:49:17.114341Z",
     "shell.execute_reply": "2024-03-12T06:49:17.113042Z"
    },
    "papermill": {
     "duration": 0.033452,
     "end_time": "2024-03-12T06:49:17.116246",
     "exception": false,
     "start_time": "2024-03-12T06:49:17.082794",
     "status": "completed"
    },
    "tags": []
   },
   "outputs": [],
   "source": [
    "def data_generator(X, y, bs = 128):\n",
    "    X, y = shuffle(X, y)\n",
    "    n_batches = int(np.ceil(len(y))/bs)\n",
    "    for i in range(n_batches):\n",
    "    #this is to account for the last batch\n",
    "    #which may not be a full size batch\n",
    "        end = min((i+1)*bs, len(y))\n",
    "\n",
    "        X_batch = X[i*bs:end]\n",
    "        y_batch = y[i*bs:end]\n",
    "        \n",
    "        #do not use 'return' since this is a data generator\n",
    "        yield X_batch, y_batch\n",
    "        \n",
    "train_gen = lambda: data_generator(X_train, y_train)\n",
    "test_gen = lambda: data_generator(X_test, y_test)"
   ]
  },
  {
   "cell_type": "code",
   "execution_count": 38,
   "id": "2a4916f7",
   "metadata": {
    "execution": {
     "iopub.execute_input": "2024-03-12T06:49:17.164211Z",
     "iopub.status.busy": "2024-03-12T06:49:17.163925Z",
     "iopub.status.idle": "2024-03-12T06:49:17.173619Z",
     "shell.execute_reply": "2024-03-12T06:49:17.172769Z"
    },
    "papermill": {
     "duration": 0.035974,
     "end_time": "2024-03-12T06:49:17.175375",
     "exception": false,
     "start_time": "2024-03-12T06:49:17.139401",
     "status": "completed"
    },
    "tags": []
   },
   "outputs": [],
   "source": [
    "def batch_gd(model, criterion, optimizer, epochs, batch_size=128, cnn = False):\n",
    "  train_losses = np.zeros(epochs)\n",
    "  test_losses = np.zeros(epochs)\n",
    "\n",
    "  for i in range(epochs):\n",
    "    t0 = datetime.now()\n",
    "    train_loss = []\n",
    "    for inputs, target in train_gen():\n",
    "        if cnn:\n",
    "            inputs = inputs.view(batch_size,1,8,8)\n",
    "        inputs, target = inputs.to(device), target.to(device)\n",
    "\n",
    "        optimizer.zero_grad()\n",
    "        out = model(inputs)\n",
    "        loss = criterion(out, target)\n",
    "        loss.backward()\n",
    "        optimizer.step()\n",
    "\n",
    "        train_loss.append(loss.item())\n",
    "    train_loss = np.mean(train_loss)\n",
    "\n",
    "    test_loss = []\n",
    "    for inputs, target in test_gen():\n",
    "        if cnn:\n",
    "            inputs = inputs.view(batch_size,1,8,8)\n",
    "        inputs, target = inputs.to(device), target.to(device)\n",
    "        out = model(inputs)\n",
    "        loss = criterion(out, target)\n",
    "        test_loss.append(loss.item())\n",
    "        \n",
    "    test_loss = np.mean(test_loss)\n",
    "    \n",
    "    train_losses[i] = train_loss\n",
    "    test_losses[i] = test_loss\n",
    "\n",
    "    dt = datetime.now()-t0\n",
    "    if i%10==0:\n",
    "        print(f'Epoch: {i}/{epochs}, train loss: {train_loss: .4f}\\\n",
    "              test_loss: {test_loss: .4f}, duration: {dt}')\n",
    "  return train_losses, test_losses"
   ]
  },
  {
   "cell_type": "code",
   "execution_count": 39,
   "id": "0e9f6685",
   "metadata": {
    "execution": {
     "iopub.execute_input": "2024-03-12T06:49:17.222637Z",
     "iopub.status.busy": "2024-03-12T06:49:17.222363Z",
     "iopub.status.idle": "2024-03-12T06:49:17.230406Z",
     "shell.execute_reply": "2024-03-12T06:49:17.229589Z"
    },
    "papermill": {
     "duration": 0.033756,
     "end_time": "2024-03-12T06:49:17.232185",
     "exception": false,
     "start_time": "2024-03-12T06:49:17.198429",
     "status": "completed"
    },
    "tags": []
   },
   "outputs": [],
   "source": [
    "def calc_accuracy(model, cnn = False):\n",
    "    model.eval()\n",
    "    n_correct = 0.\n",
    "    n_total = 0.\n",
    "    batch_size =128\n",
    "    for inputs, target in train_gen():\n",
    "        if cnn:\n",
    "            inputs = inputs.view(batch_size,1,8,8)\n",
    "        inputs, target = inputs.to(device), target.to(device)\n",
    "        #Perform the prediction\n",
    "        #round up the prediction to the nearest integer\n",
    "        ypred = torch.round(model(inputs))\n",
    "        # update counts\n",
    "        n_correct += (ypred == target).sum().item()\n",
    "        n_total += target.shape[0]\n",
    "    train_acc = n_correct / n_total\n",
    "    \n",
    "    #TEST SET\n",
    "    n_correct = 0.\n",
    "    n_total = 0\n",
    "    for inputs, target in test_gen():\n",
    "        if cnn:\n",
    "            inputs = inputs.view(batch_size,1,8,8)\n",
    "        inputs, target = inputs.to(device), target.to(device)\n",
    "        \n",
    "        # Forward pass\n",
    "        ypred_test = torch.round(model(inputs))\n",
    "        # update counts\n",
    "        n_correct += (ypred_test == target).sum().item()\n",
    "        n_total += target.shape[0]\n",
    "        test_acc = n_correct / n_total\n",
    "\n",
    "    return train_acc, test_acc"
   ]
  },
  {
   "cell_type": "markdown",
   "id": "3c1db1e0",
   "metadata": {
    "papermill": {
     "duration": 0.022946,
     "end_time": "2024-03-12T06:49:17.278319",
     "exception": false,
     "start_time": "2024-03-12T06:49:17.255373",
     "status": "completed"
    },
    "tags": []
   },
   "source": [
    "## Load trained old models and check performance\n",
    "\n",
    "In this section, we load the old models without any BatchNorm layers. These models were trained in a previous version of the notebook. "
   ]
  },
  {
   "cell_type": "code",
   "execution_count": 40,
   "id": "ce2e1cfa",
   "metadata": {
    "execution": {
     "iopub.execute_input": "2024-03-12T06:49:17.326479Z",
     "iopub.status.busy": "2024-03-12T06:49:17.326193Z",
     "iopub.status.idle": "2024-03-12T06:49:17.333682Z",
     "shell.execute_reply": "2024-03-12T06:49:17.332581Z"
    },
    "papermill": {
     "duration": 0.034208,
     "end_time": "2024-03-12T06:49:17.335692",
     "exception": false,
     "start_time": "2024-03-12T06:49:17.301484",
     "status": "completed"
    },
    "tags": []
   },
   "outputs": [],
   "source": [
    "class ANN_KS_h11(nn.Module):\n",
    "    \n",
    "    def __init__(self):\n",
    "        super().__init__()\n",
    "        self.flat = nn.Flatten()\n",
    "        self.linear1 = nn.Linear(64,1024)\n",
    "        self.linear2 = nn.Linear(1024,512)\n",
    "        self.linear3 = nn.Linear(512,256)\n",
    "        self.linear4 = nn.Linear(256,64)\n",
    "        self.linear5 = nn.Linear(64,1)\n",
    "\n",
    "    def forward(self,x):\n",
    "        x = self.flat(x)\n",
    "        x = F.relu(self.linear1(x))\n",
    "        x = F.relu(self.linear2(x))\n",
    "        x = F.relu(self.linear3(x))\n",
    "        x = F.relu(self.linear4(x))\n",
    "        x = self.linear5(x)\n",
    "        \n",
    "        return x"
   ]
  },
  {
   "cell_type": "code",
   "execution_count": 41,
   "id": "7161b9b6",
   "metadata": {
    "execution": {
     "iopub.execute_input": "2024-03-12T06:49:17.383683Z",
     "iopub.status.busy": "2024-03-12T06:49:17.383414Z",
     "iopub.status.idle": "2024-03-12T06:49:17.391320Z",
     "shell.execute_reply": "2024-03-12T06:49:17.390448Z"
    },
    "papermill": {
     "duration": 0.033827,
     "end_time": "2024-03-12T06:49:17.393103",
     "exception": false,
     "start_time": "2024-03-12T06:49:17.359276",
     "status": "completed"
    },
    "tags": []
   },
   "outputs": [],
   "source": [
    "class CNN_KS_h11(nn.Module):\n",
    "    \n",
    "    def __init__(self):\n",
    "        super().__init__()\n",
    "        self.conv1 = nn.Conv2d(1,64, 3, 1)\n",
    "        self.conv2 = nn.Conv2d(64,32, 2, 1)\n",
    "        self.mxpool = nn.MaxPool2d(2,2)\n",
    "        self.flat = nn.Flatten()\n",
    "        self.conv_total = nn.Sequential(\n",
    "            self.conv1,\n",
    "            self.mxpool,\n",
    "            self.conv2,\n",
    "            self.mxpool\n",
    "        )\n",
    "        \n",
    "        self.linear1 = nn.Linear(32,1024)\n",
    "        self.linear2 = nn.Linear(1024,512)\n",
    "        self.linear3 = nn.Linear(512,128)\n",
    "        self.linear4 = nn.Linear(128,1)\n",
    "\n",
    "    def forward(self,x):\n",
    "        x = F.relu(self.conv_total(x))\n",
    "        x = self.flat(x)\n",
    "        x = F.relu(self.linear1(x))\n",
    "        x = F.relu(self.linear2(x))\n",
    "        x = F.relu(self.linear3(x))\n",
    "        x = self.linear4(x)\n",
    "        \n",
    "        return x"
   ]
  },
  {
   "cell_type": "code",
   "execution_count": 42,
   "id": "70e93ef6",
   "metadata": {
    "execution": {
     "iopub.execute_input": "2024-03-12T06:49:17.440093Z",
     "iopub.status.busy": "2024-03-12T06:49:17.439857Z",
     "iopub.status.idle": "2024-03-12T06:49:17.759702Z",
     "shell.execute_reply": "2024-03-12T06:49:17.758557Z"
    },
    "papermill": {
     "duration": 0.345863,
     "end_time": "2024-03-12T06:49:17.762006",
     "exception": false,
     "start_time": "2024-03-12T06:49:17.416143",
     "status": "completed"
    },
    "tags": []
   },
   "outputs": [],
   "source": [
    "model_path = '/kaggle/input/kreuzer-skarke-4d-polytopes/'\n",
    "ann_path = model_path + 'ANN_h11.pt'\n",
    "cnn_path = model_path + 'CNN_h11.pt'\n",
    "\n",
    "#These models are defined without any BatchNorm layers\n",
    "# The new models trained below come with BatchNorm\n",
    "ann_model = torch.load(ann_path)\n",
    "cnn_model = torch.load(cnn_path)\n",
    "#model.eval()"
   ]
  },
  {
   "cell_type": "code",
   "execution_count": 43,
   "id": "3fde3723",
   "metadata": {
    "execution": {
     "iopub.execute_input": "2024-03-12T06:49:17.810338Z",
     "iopub.status.busy": "2024-03-12T06:49:17.810020Z",
     "iopub.status.idle": "2024-03-12T06:49:18.489780Z",
     "shell.execute_reply": "2024-03-12T06:49:18.488687Z"
    },
    "papermill": {
     "duration": 0.706196,
     "end_time": "2024-03-12T06:49:18.492088",
     "exception": false,
     "start_time": "2024-03-12T06:49:17.785892",
     "status": "completed"
    },
    "tags": []
   },
   "outputs": [
    {
     "name": "stdout",
     "output_type": "stream",
     "text": [
      "tensor([[ 44.],\n",
      "        [ 38.],\n",
      "        [ 57.],\n",
      "        [109.],\n",
      "        [ 53.]], device='cuda:0')\n",
      "tensor([[ 43.9512],\n",
      "        [ 42.1900],\n",
      "        [ 56.8956],\n",
      "        [103.8049],\n",
      "        [ 55.4169]], device='cuda:0', grad_fn=<SliceBackward0>)\n"
     ]
    }
   ],
   "source": [
    "#PRINT OUT SOME OUTPUTS TO COMPARE BETWEEN PREDICTIONS AND TARGETS\n",
    "for inputs, target in train_gen():\n",
    "    inputs, target = inputs.to(device), target.to(device)\n",
    "    #Perform the prediction\n",
    "    #ypred = torch.round(model(inputs))\n",
    "    ypred = (ann_model(inputs))\n",
    "    print(target[:5])\n",
    "    print(ypred[:5])\n",
    "    break"
   ]
  },
  {
   "cell_type": "code",
   "execution_count": 44,
   "id": "ac47eca7",
   "metadata": {
    "execution": {
     "iopub.execute_input": "2024-03-12T06:49:18.542876Z",
     "iopub.status.busy": "2024-03-12T06:49:18.542593Z",
     "iopub.status.idle": "2024-03-12T06:49:19.257816Z",
     "shell.execute_reply": "2024-03-12T06:49:19.256592Z"
    },
    "papermill": {
     "duration": 0.743374,
     "end_time": "2024-03-12T06:49:19.259814",
     "exception": false,
     "start_time": "2024-03-12T06:49:18.516440",
     "status": "completed"
    },
    "tags": []
   },
   "outputs": [
    {
     "name": "stdout",
     "output_type": "stream",
     "text": [
      "tensor([[ 34.],\n",
      "        [ 79.],\n",
      "        [ 39.],\n",
      "        [112.],\n",
      "        [ 60.]], device='cuda:0')\n",
      "tensor([[ 32.5926],\n",
      "        [ 73.6514],\n",
      "        [ 46.2586],\n",
      "        [113.6258],\n",
      "        [ 58.4950]], device='cuda:0', grad_fn=<SliceBackward0>)\n"
     ]
    }
   ],
   "source": [
    "#PRINT OUT SOME OUTPUTS TO COMPARE BETWEEN PREDICTIONS AND TARGETS\n",
    "for inputs, target in train_gen():\n",
    "    inputs = inputs.view(128, 1, 8,8)\n",
    "    inputs, target = inputs.to(device), target.to(device)\n",
    "    #Perform the prediction\n",
    "    #ypred = torch.round(model(inputs))\n",
    "    ypred = (cnn_model(inputs))\n",
    "    print(target[:5])\n",
    "    print(ypred[:5])\n",
    "    break"
   ]
  },
  {
   "cell_type": "code",
   "execution_count": 45,
   "id": "2ee41ec0",
   "metadata": {
    "execution": {
     "iopub.execute_input": "2024-03-12T06:49:19.308556Z",
     "iopub.status.busy": "2024-03-12T06:49:19.308259Z",
     "iopub.status.idle": "2024-03-12T06:49:22.613704Z",
     "shell.execute_reply": "2024-03-12T06:49:22.612721Z"
    },
    "papermill": {
     "duration": 3.331986,
     "end_time": "2024-03-12T06:49:22.615712",
     "exception": false,
     "start_time": "2024-03-12T06:49:19.283726",
     "status": "completed"
    },
    "tags": []
   },
   "outputs": [
    {
     "data": {
      "text/plain": [
       "(0.2035878187308282, 0.17696151265337423)"
      ]
     },
     "execution_count": 45,
     "metadata": {},
     "output_type": "execute_result"
    }
   ],
   "source": [
    "calc_accuracy(ann_model, cnn = False)"
   ]
  },
  {
   "cell_type": "code",
   "execution_count": 46,
   "id": "4eaab453",
   "metadata": {
    "execution": {
     "iopub.execute_input": "2024-03-12T06:49:22.665833Z",
     "iopub.status.busy": "2024-03-12T06:49:22.665522Z",
     "iopub.status.idle": "2024-03-12T06:49:27.338560Z",
     "shell.execute_reply": "2024-03-12T06:49:27.337581Z"
    },
    "papermill": {
     "duration": 4.700295,
     "end_time": "2024-03-12T06:49:27.340593",
     "exception": false,
     "start_time": "2024-03-12T06:49:22.640298",
     "status": "completed"
    },
    "tags": []
   },
   "outputs": [
    {
     "data": {
      "text/plain": [
       "(0.13643416890337423, 0.12615629792944785)"
      ]
     },
     "execution_count": 46,
     "metadata": {},
     "output_type": "execute_result"
    }
   ],
   "source": [
    "calc_accuracy(cnn_model, cnn = True)"
   ]
  },
  {
   "cell_type": "markdown",
   "id": "0792a97b",
   "metadata": {
    "papermill": {
     "duration": 0.023675,
     "end_time": "2024-03-12T06:49:27.388670",
     "exception": false,
     "start_time": "2024-03-12T06:49:27.364995",
     "status": "completed"
    },
    "tags": []
   },
   "source": [
    "# CNN model: Training & Evaluation"
   ]
  },
  {
   "cell_type": "code",
   "execution_count": 47,
   "id": "331bfd54",
   "metadata": {
    "execution": {
     "iopub.execute_input": "2024-03-12T06:49:27.437478Z",
     "iopub.status.busy": "2024-03-12T06:49:27.437146Z",
     "iopub.status.idle": "2024-03-12T06:49:27.458037Z",
     "shell.execute_reply": "2024-03-12T06:49:27.457197Z"
    },
    "papermill": {
     "duration": 0.047695,
     "end_time": "2024-03-12T06:49:27.459987",
     "exception": false,
     "start_time": "2024-03-12T06:49:27.412292",
     "status": "completed"
    },
    "tags": []
   },
   "outputs": [],
   "source": [
    "model_cnn = CNN_KS_h11_new()"
   ]
  },
  {
   "cell_type": "code",
   "execution_count": 48,
   "id": "6377ab15",
   "metadata": {
    "execution": {
     "iopub.execute_input": "2024-03-12T06:49:27.508522Z",
     "iopub.status.busy": "2024-03-12T06:49:27.508021Z",
     "iopub.status.idle": "2024-03-12T06:49:27.517877Z",
     "shell.execute_reply": "2024-03-12T06:49:27.517019Z"
    },
    "papermill": {
     "duration": 0.036107,
     "end_time": "2024-03-12T06:49:27.519720",
     "exception": false,
     "start_time": "2024-03-12T06:49:27.483613",
     "status": "completed"
    },
    "tags": []
   },
   "outputs": [
    {
     "name": "stdout",
     "output_type": "stream",
     "text": [
      "cuda:0\n"
     ]
    },
    {
     "data": {
      "text/plain": [
       "CNN_KS_h11_new(\n",
       "  (conv1): Conv2d(1, 64, kernel_size=(3, 3), stride=(1, 1))\n",
       "  (bn1): BatchNorm2d(64, eps=1e-05, momentum=0.1, affine=True, track_running_stats=True)\n",
       "  (conv2): Conv2d(64, 32, kernel_size=(2, 2), stride=(1, 1))\n",
       "  (bn2): BatchNorm2d(32, eps=1e-05, momentum=0.1, affine=True, track_running_stats=True)\n",
       "  (mxpool): MaxPool2d(kernel_size=2, stride=2, padding=0, dilation=1, ceil_mode=False)\n",
       "  (flat): Flatten(start_dim=1, end_dim=-1)\n",
       "  (conv_total): Sequential(\n",
       "    (0): Conv2d(1, 64, kernel_size=(3, 3), stride=(1, 1))\n",
       "    (1): BatchNorm2d(64, eps=1e-05, momentum=0.1, affine=True, track_running_stats=True)\n",
       "    (2): MaxPool2d(kernel_size=2, stride=2, padding=0, dilation=1, ceil_mode=False)\n",
       "    (3): Conv2d(64, 32, kernel_size=(2, 2), stride=(1, 1))\n",
       "    (4): BatchNorm2d(32, eps=1e-05, momentum=0.1, affine=True, track_running_stats=True)\n",
       "    (5): MaxPool2d(kernel_size=2, stride=2, padding=0, dilation=1, ceil_mode=False)\n",
       "  )\n",
       "  (linear1): Linear(in_features=32, out_features=1024, bias=True)\n",
       "  (linear2): Linear(in_features=1024, out_features=512, bias=True)\n",
       "  (linear3): Linear(in_features=512, out_features=128, bias=True)\n",
       "  (linear4): Linear(in_features=128, out_features=1, bias=True)\n",
       ")"
      ]
     },
     "execution_count": 48,
     "metadata": {},
     "output_type": "execute_result"
    }
   ],
   "source": [
    "device = torch.device(\"cuda:0\" if torch.cuda.is_available() else \"cpu\")\n",
    "print(device)\n",
    "model_cnn.to(device)"
   ]
  },
  {
   "cell_type": "code",
   "execution_count": 49,
   "id": "616b5b9f",
   "metadata": {
    "execution": {
     "iopub.execute_input": "2024-03-12T06:49:27.568396Z",
     "iopub.status.busy": "2024-03-12T06:49:27.568123Z",
     "iopub.status.idle": "2024-03-12T06:49:27.634032Z",
     "shell.execute_reply": "2024-03-12T06:49:27.632816Z"
    },
    "papermill": {
     "duration": 0.092313,
     "end_time": "2024-03-12T06:49:27.635909",
     "exception": false,
     "start_time": "2024-03-12T06:49:27.543596",
     "status": "completed"
    },
    "tags": []
   },
   "outputs": [
    {
     "name": "stdout",
     "output_type": "stream",
     "text": [
      "Original shape of the image before passing through the network: \n",
      " torch.Size([8, 8])\n",
      "\n",
      "Reshape the size to take in account the batch number\n",
      "The new size is torch.Size([1, 1, 8, 8])\n",
      "\n",
      "Shape of the image after passing through the whole convolution block: \n",
      " torch.Size([1, 32, 1, 1])\n",
      "\n",
      "Shape of the image after passing through the Flatten(start_dim=1, end_dim=-1): \n",
      " torch.Size([1, 32])\n",
      "\n",
      "Shape of the image after passing through the Linear(in_features=32, out_features=1024, bias=True): \n",
      " torch.Size([1, 1024])\n",
      "\n",
      "Shape of the image after passing through the Linear(in_features=1024, out_features=512, bias=True): \n",
      " torch.Size([1, 512])\n",
      "\n",
      "Shape of the image after passing through the Linear(in_features=512, out_features=128, bias=True): \n",
      " torch.Size([1, 128])\n",
      "\n",
      "Shape of the image after passing through the Linear(in_features=128, out_features=1, bias=True): \n",
      " torch.Size([1, 1])\n",
      "\n"
     ]
    }
   ],
   "source": [
    "X = X_train[0].to(device)\n",
    "print(f'Original shape of the image before passing through the network: \\n {X.shape}\\n')\n",
    "print('Reshape the size to take in account the batch number')\n",
    "X = X.view(1,1,8,8)\n",
    "print(f'The new size is {X.shape}\\n')\n",
    "X = model_cnn.conv_total(X)\n",
    "print(f'Shape of the image after passing through the whole convolution block: \\n {X.shape}\\n')\n",
    "\n",
    "X = model_cnn.flat(X)\n",
    "print(f'Shape of the image after passing through the {model_cnn.flat}: \\n {X.shape}\\n')\n",
    "\n",
    "X = model_cnn.linear1(X)\n",
    "print(f'Shape of the image after passing through the {model_cnn.linear1}: \\n {X.shape}\\n')\n",
    "\n",
    "X = model_cnn.linear2(X)\n",
    "print(f'Shape of the image after passing through the {model_cnn.linear2}: \\n {X.shape}\\n')\n",
    "\n",
    "X = model_cnn.linear3(X)\n",
    "print(f'Shape of the image after passing through the {model_cnn.linear3}: \\n {X.shape}\\n')\n",
    "\n",
    "X = model_cnn.linear4(X)\n",
    "print(f'Shape of the image after passing through the {model_cnn.linear4}: \\n {X.shape}\\n')"
   ]
  },
  {
   "cell_type": "code",
   "execution_count": 50,
   "id": "f1e85043",
   "metadata": {
    "execution": {
     "iopub.execute_input": "2024-03-12T06:49:27.685798Z",
     "iopub.status.busy": "2024-03-12T06:49:27.685532Z",
     "iopub.status.idle": "2024-03-12T06:49:27.690484Z",
     "shell.execute_reply": "2024-03-12T06:49:27.689624Z"
    },
    "papermill": {
     "duration": 0.032447,
     "end_time": "2024-03-12T06:49:27.692787",
     "exception": false,
     "start_time": "2024-03-12T06:49:27.660340",
     "status": "completed"
    },
    "tags": []
   },
   "outputs": [
    {
     "name": "stdout",
     "output_type": "stream",
     "text": [
      "     576\n",
      "      64\n",
      "      64\n",
      "      64\n",
      "    8192\n",
      "      32\n",
      "      32\n",
      "      32\n",
      "   32768\n",
      "    1024\n",
      "  524288\n",
      "     512\n",
      "   65536\n",
      "     128\n",
      "     128\n",
      "       1\n",
      "________\n",
      "  633441\n"
     ]
    }
   ],
   "source": [
    "#count the number of parameters in the model\n",
    "params = [p.numel() for p in model_cnn.parameters() if p.requires_grad]\n",
    "for item in params:\n",
    "    print(f'{item:>8}')\n",
    "print(f'________\\n{sum(params):>8}')"
   ]
  },
  {
   "cell_type": "code",
   "execution_count": 51,
   "id": "4a96e083",
   "metadata": {
    "execution": {
     "iopub.execute_input": "2024-03-12T06:49:27.741732Z",
     "iopub.status.busy": "2024-03-12T06:49:27.741313Z",
     "iopub.status.idle": "2024-03-12T06:49:27.745697Z",
     "shell.execute_reply": "2024-03-12T06:49:27.744917Z"
    },
    "papermill": {
     "duration": 0.030859,
     "end_time": "2024-03-12T06:49:27.747567",
     "exception": false,
     "start_time": "2024-03-12T06:49:27.716708",
     "status": "completed"
    },
    "tags": []
   },
   "outputs": [],
   "source": [
    "criterion = nn.MSELoss()\n",
    "optimizer = torch.optim.Adam(model_cnn.parameters())"
   ]
  },
  {
   "cell_type": "code",
   "execution_count": 52,
   "id": "24335caf",
   "metadata": {
    "execution": {
     "iopub.execute_input": "2024-03-12T06:49:27.796911Z",
     "iopub.status.busy": "2024-03-12T06:49:27.796434Z",
     "iopub.status.idle": "2024-03-12T07:32:41.620507Z",
     "shell.execute_reply": "2024-03-12T07:32:41.619396Z"
    },
    "papermill": {
     "duration": 2593.851655,
     "end_time": "2024-03-12T07:32:41.623196",
     "exception": false,
     "start_time": "2024-03-12T06:49:27.771541",
     "status": "completed"
    },
    "tags": []
   },
   "outputs": [
    {
     "name": "stdout",
     "output_type": "stream",
     "text": [
      "Epoch: 0/150, train loss:  109.5840              test_loss:  67.1710, duration: 0:00:17.511361\n",
      "Epoch: 10/150, train loss:  28.5653              test_loss:  26.9731, duration: 0:00:17.147959\n",
      "Epoch: 20/150, train loss:  23.8137              test_loss:  23.6794, duration: 0:00:16.955196\n",
      "Epoch: 30/150, train loss:  21.0505              test_loss:  21.8518, duration: 0:00:17.237429\n",
      "Epoch: 40/150, train loss:  19.0366              test_loss:  20.6152, duration: 0:00:17.157042\n",
      "Epoch: 50/150, train loss:  17.9255              test_loss:  19.4799, duration: 0:00:18.684795\n",
      "Epoch: 60/150, train loss:  17.0383              test_loss:  18.6500, duration: 0:00:17.271764\n",
      "Epoch: 70/150, train loss:  16.2950              test_loss:  17.7336, duration: 0:00:17.016399\n",
      "Epoch: 80/150, train loss:  15.6090              test_loss:  16.6680, duration: 0:00:17.164629\n",
      "Epoch: 90/150, train loss:  15.1649              test_loss:  17.3198, duration: 0:00:17.221461\n",
      "Epoch: 100/150, train loss:  14.6312              test_loss:  16.3747, duration: 0:00:17.381046\n",
      "Epoch: 110/150, train loss:  14.2913              test_loss:  17.6494, duration: 0:00:17.176539\n",
      "Epoch: 120/150, train loss:  13.9149              test_loss:  16.2141, duration: 0:00:17.102519\n",
      "Epoch: 130/150, train loss:  13.7196              test_loss:  17.1007, duration: 0:00:17.141416\n",
      "Epoch: 140/150, train loss:  13.5205              test_loss:  16.2103, duration: 0:00:17.072627\n"
     ]
    }
   ],
   "source": [
    "train_losses, test_losses=batch_gd(model_cnn, criterion, optimizer, 150, 128, cnn=True)"
   ]
  },
  {
   "cell_type": "code",
   "execution_count": 53,
   "id": "ae85a80b",
   "metadata": {
    "execution": {
     "iopub.execute_input": "2024-03-12T07:32:41.676646Z",
     "iopub.status.busy": "2024-03-12T07:32:41.676308Z",
     "iopub.status.idle": "2024-03-12T07:32:41.688267Z",
     "shell.execute_reply": "2024-03-12T07:32:41.687346Z"
    },
    "papermill": {
     "duration": 0.040822,
     "end_time": "2024-03-12T07:32:41.690312",
     "exception": false,
     "start_time": "2024-03-12T07:32:41.649490",
     "status": "completed"
    },
    "tags": []
   },
   "outputs": [],
   "source": [
    "# SAVE MODEL FOR INFERENCE\n",
    "#https://pytorch.org/tutorials/beginner/saving_loading_models.html\n",
    "torch.save(model_cnn, '/kaggle/working/saved_models/CNN_KS_h11.pt')\n",
    "#model = torch.load(PATH)\n",
    "#model.eval()"
   ]
  },
  {
   "cell_type": "code",
   "execution_count": 54,
   "id": "1ddb9b87",
   "metadata": {
    "execution": {
     "iopub.execute_input": "2024-03-12T07:32:41.743011Z",
     "iopub.status.busy": "2024-03-12T07:32:41.742706Z",
     "iopub.status.idle": "2024-03-12T07:32:41.929737Z",
     "shell.execute_reply": "2024-03-12T07:32:41.928761Z"
    },
    "papermill": {
     "duration": 0.21592,
     "end_time": "2024-03-12T07:32:41.931879",
     "exception": false,
     "start_time": "2024-03-12T07:32:41.715959",
     "status": "completed"
    },
    "tags": []
   },
   "outputs": [
    {
     "data": {
      "image/png": "[encoded data removed]",
      "text/plain": [
       "<Figure size 640x480 with 1 Axes>"
      ]
     },
     "metadata": {},
     "output_type": "display_data"
    }
   ],
   "source": [
    "# Plot the train loss and test loss per iteration\n",
    "plt.plot(train_losses, label='train loss')\n",
    "plt.plot(test_losses, label='test loss')\n",
    "plt.legend()\n",
    "plt.show()"
   ]
  },
  {
   "cell_type": "code",
   "execution_count": 55,
   "id": "40b73518",
   "metadata": {
    "execution": {
     "iopub.execute_input": "2024-03-12T07:32:41.985856Z",
     "iopub.status.busy": "2024-03-12T07:32:41.985521Z",
     "iopub.status.idle": "2024-03-12T07:32:47.684591Z",
     "shell.execute_reply": "2024-03-12T07:32:47.683390Z"
    },
    "papermill": {
     "duration": 5.728165,
     "end_time": "2024-03-12T07:32:47.686642",
     "exception": false,
     "start_time": "2024-03-12T07:32:41.958477",
     "status": "completed"
    },
    "tags": []
   },
   "outputs": [
    {
     "name": "stdout",
     "output_type": "stream",
     "text": [
      "Train acc: 0.1341, Test acc: 0.1238\n"
     ]
    }
   ],
   "source": [
    "train_acc, test_acc = calc_accuracy(model_cnn, cnn= True)\n",
    "print(f\"Train acc: {train_acc:.4f}, Test acc: {test_acc:.4f}\")"
   ]
  },
  {
   "cell_type": "markdown",
   "id": "51665f76",
   "metadata": {
    "papermill": {
     "duration": 0.025562,
     "end_time": "2024-03-12T07:32:47.739080",
     "exception": false,
     "start_time": "2024-03-12T07:32:47.713518",
     "status": "completed"
    },
    "tags": []
   },
   "source": [
    "# ANN: Training and Evaluation"
   ]
  },
  {
   "cell_type": "code",
   "execution_count": 56,
   "id": "c3dfe92f",
   "metadata": {
    "execution": {
     "iopub.execute_input": "2024-03-12T07:32:47.799979Z",
     "iopub.status.busy": "2024-03-12T07:32:47.799072Z",
     "iopub.status.idle": "2024-03-12T07:32:47.814771Z",
     "shell.execute_reply": "2024-03-12T07:32:47.813826Z"
    },
    "papermill": {
     "duration": 0.051977,
     "end_time": "2024-03-12T07:32:47.816838",
     "exception": false,
     "start_time": "2024-03-12T07:32:47.764861",
     "status": "completed"
    },
    "tags": []
   },
   "outputs": [],
   "source": [
    "model_ann = ANN_KS_h11_new()"
   ]
  },
  {
   "cell_type": "code",
   "execution_count": 57,
   "id": "94a4e500",
   "metadata": {
    "execution": {
     "iopub.execute_input": "2024-03-12T07:32:47.883106Z",
     "iopub.status.busy": "2024-03-12T07:32:47.882778Z",
     "iopub.status.idle": "2024-03-12T07:32:47.893058Z",
     "shell.execute_reply": "2024-03-12T07:32:47.892182Z"
    },
    "papermill": {
     "duration": 0.042383,
     "end_time": "2024-03-12T07:32:47.895301",
     "exception": false,
     "start_time": "2024-03-12T07:32:47.852918",
     "status": "completed"
    },
    "tags": []
   },
   "outputs": [
    {
     "name": "stdout",
     "output_type": "stream",
     "text": [
      "cuda:0\n"
     ]
    },
    {
     "data": {
      "text/plain": [
       "ANN_KS_h11_new(\n",
       "  (flat): Flatten(start_dim=1, end_dim=-1)\n",
       "  (linear1): Linear(in_features=64, out_features=1024, bias=True)\n",
       "  (bn1): BatchNorm1d(1024, eps=1e-05, momentum=0.1, affine=True, track_running_stats=True)\n",
       "  (linear2): Linear(in_features=1024, out_features=512, bias=True)\n",
       "  (bn2): BatchNorm1d(512, eps=1e-05, momentum=0.1, affine=True, track_running_stats=True)\n",
       "  (linear3): Linear(in_features=512, out_features=256, bias=True)\n",
       "  (bn3): BatchNorm1d(256, eps=1e-05, momentum=0.1, affine=True, track_running_stats=True)\n",
       "  (linear4): Linear(in_features=256, out_features=64, bias=True)\n",
       "  (bn4): BatchNorm1d(64, eps=1e-05, momentum=0.1, affine=True, track_running_stats=True)\n",
       "  (linear5): Linear(in_features=64, out_features=1, bias=True)\n",
       ")"
      ]
     },
     "execution_count": 57,
     "metadata": {},
     "output_type": "execute_result"
    }
   ],
   "source": [
    "device = torch.device(\"cuda:0\" if torch.cuda.is_available() else \"cpu\")\n",
    "print(device)\n",
    "model_ann.to(device)"
   ]
  },
  {
   "cell_type": "code",
   "execution_count": 58,
   "id": "73fc2a20",
   "metadata": {
    "execution": {
     "iopub.execute_input": "2024-03-12T07:32:47.954998Z",
     "iopub.status.busy": "2024-03-12T07:32:47.954364Z",
     "iopub.status.idle": "2024-03-12T07:32:47.961191Z",
     "shell.execute_reply": "2024-03-12T07:32:47.960181Z"
    },
    "papermill": {
     "duration": 0.036165,
     "end_time": "2024-03-12T07:32:47.963098",
     "exception": false,
     "start_time": "2024-03-12T07:32:47.926933",
     "status": "completed"
    },
    "tags": []
   },
   "outputs": [
    {
     "name": "stdout",
     "output_type": "stream",
     "text": [
      "   65536\n",
      "    1024\n",
      "    1024\n",
      "    1024\n",
      "  524288\n",
      "     512\n",
      "     512\n",
      "     512\n",
      "  131072\n",
      "     256\n",
      "     256\n",
      "     256\n",
      "   16384\n",
      "      64\n",
      "      64\n",
      "      64\n",
      "      64\n",
      "       1\n",
      "________\n",
      "  742913\n"
     ]
    }
   ],
   "source": [
    "#count the number of parameters in the model\n",
    "params = [p.numel() for p in model_ann.parameters() if p.requires_grad]\n",
    "for item in params:\n",
    "    print(f'{item:>8}')\n",
    "print(f'________\\n{sum(params):>8}')"
   ]
  },
  {
   "cell_type": "code",
   "execution_count": 59,
   "id": "91188176",
   "metadata": {
    "execution": {
     "iopub.execute_input": "2024-03-12T07:32:48.020506Z",
     "iopub.status.busy": "2024-03-12T07:32:48.020150Z",
     "iopub.status.idle": "2024-03-12T07:32:48.031622Z",
     "shell.execute_reply": "2024-03-12T07:32:48.030489Z"
    },
    "papermill": {
     "duration": 0.044156,
     "end_time": "2024-03-12T07:32:48.033976",
     "exception": false,
     "start_time": "2024-03-12T07:32:47.989820",
     "status": "completed"
    },
    "tags": []
   },
   "outputs": [
    {
     "name": "stdout",
     "output_type": "stream",
     "text": [
      "Original shape of the image before passing through the network: \n",
      " torch.Size([8, 8])\n",
      "\n",
      "Reshape the size to take in account the batch number\n",
      "The new size is torch.Size([1, 1, 8, 8])\n",
      "\n",
      "Shape of the image after passing through the Flatten(start_dim=1, end_dim=-1): \n",
      " torch.Size([1, 64])\n",
      "\n",
      "Shape of the image after passing through the Linear(in_features=64, out_features=1024, bias=True): \n",
      " torch.Size([1, 1024])\n",
      "\n",
      "Shape of the image after passing through the Linear(in_features=1024, out_features=512, bias=True): \n",
      " torch.Size([1, 512])\n",
      "\n",
      "Shape of the image after passing through the Linear(in_features=512, out_features=256, bias=True): \n",
      " torch.Size([1, 256])\n",
      "\n",
      "Shape of the image after passing through the Linear(in_features=256, out_features=64, bias=True): \n",
      " torch.Size([1, 64])\n",
      "\n",
      "Shape of the image after passing through the Linear(in_features=64, out_features=1, bias=True): \n",
      " torch.Size([1, 1])\n",
      "\n"
     ]
    }
   ],
   "source": [
    "X = X_train[0].to(device)\n",
    "print(f'Original shape of the image before passing through the network: \\n {X.shape}\\n')\n",
    "print('Reshape the size to take in account the batch number')\n",
    "X = X.view(1,1,8,8)\n",
    "print(f'The new size is {X.shape}\\n')\n",
    "\n",
    "X = model_ann.flat(X)\n",
    "print(f'Shape of the image after passing through the {model_ann.flat}: \\n {X.shape}\\n')\n",
    "\n",
    "X = model_ann.linear1(X)\n",
    "print(f'Shape of the image after passing through the {model_ann.linear1}: \\n {X.shape}\\n')\n",
    "\n",
    "X = model_ann.linear2(X)\n",
    "print(f'Shape of the image after passing through the {model_ann.linear2}: \\n {X.shape}\\n')\n",
    "\n",
    "X = model_ann.linear3(X)\n",
    "print(f'Shape of the image after passing through the {model_ann.linear3}: \\n {X.shape}\\n')\n",
    "X = model_ann.linear4(X)\n",
    "print(f'Shape of the image after passing through the {model_ann.linear4}: \\n {X.shape}\\n')\n",
    "X = model_ann.linear5(X)\n",
    "print(f'Shape of the image after passing through the {model_ann.linear5}: \\n {X.shape}\\n')"
   ]
  },
  {
   "cell_type": "code",
   "execution_count": 60,
   "id": "8b40d3e3",
   "metadata": {
    "execution": {
     "iopub.execute_input": "2024-03-12T07:32:48.093233Z",
     "iopub.status.busy": "2024-03-12T07:32:48.092433Z",
     "iopub.status.idle": "2024-03-12T07:32:48.098282Z",
     "shell.execute_reply": "2024-03-12T07:32:48.097410Z"
    },
    "papermill": {
     "duration": 0.035934,
     "end_time": "2024-03-12T07:32:48.100264",
     "exception": false,
     "start_time": "2024-03-12T07:32:48.064330",
     "status": "completed"
    },
    "tags": []
   },
   "outputs": [],
   "source": [
    "criterion = nn.MSELoss()\n",
    "optimizer = torch.optim.Adam(model_ann.parameters())"
   ]
  },
  {
   "cell_type": "code",
   "execution_count": 61,
   "id": "a9bccf5d",
   "metadata": {
    "execution": {
     "iopub.execute_input": "2024-03-12T07:32:48.159633Z",
     "iopub.status.busy": "2024-03-12T07:32:48.159262Z",
     "iopub.status.idle": "2024-03-12T08:15:13.548458Z",
     "shell.execute_reply": "2024-03-12T08:15:13.547608Z"
    },
    "papermill": {
     "duration": 2545.423158,
     "end_time": "2024-03-12T08:15:13.550944",
     "exception": false,
     "start_time": "2024-03-12T07:32:48.127786",
     "status": "completed"
    },
    "tags": []
   },
   "outputs": [
    {
     "name": "stdout",
     "output_type": "stream",
     "text": [
      "Epoch: 0/150, train loss:  282.6722              test_loss:  71.5436, duration: 0:00:17.076715\n",
      "Epoch: 10/150, train loss:  26.8872              test_loss:  25.5508, duration: 0:00:16.897991\n",
      "Epoch: 20/150, train loss:  19.9731              test_loss:  19.8267, duration: 0:00:16.946769\n",
      "Epoch: 30/150, train loss:  16.8236              test_loss:  18.0206, duration: 0:00:16.730121\n",
      "Epoch: 40/150, train loss:  14.9796              test_loss:  15.6082, duration: 0:00:17.015394\n",
      "Epoch: 50/150, train loss:  13.8402              test_loss:  14.4867, duration: 0:00:17.064122\n",
      "Epoch: 60/150, train loss:  12.9150              test_loss:  13.7206, duration: 0:00:17.001006\n",
      "Epoch: 70/150, train loss:  12.1734              test_loss:  12.7961, duration: 0:00:17.004240\n",
      "Epoch: 80/150, train loss:  11.5071              test_loss:  13.5062, duration: 0:00:16.945939\n",
      "Epoch: 90/150, train loss:  11.0840              test_loss:  12.3279, duration: 0:00:17.073446\n",
      "Epoch: 100/150, train loss:  10.6158              test_loss:  12.0275, duration: 0:00:16.963854\n",
      "Epoch: 110/150, train loss:  10.2133              test_loss:  11.5163, duration: 0:00:16.925175\n",
      "Epoch: 120/150, train loss:  9.9486              test_loss:  11.6825, duration: 0:00:16.948678\n",
      "Epoch: 130/150, train loss:  9.6105              test_loss:  10.6257, duration: 0:00:16.899365\n",
      "Epoch: 140/150, train loss:  9.3837              test_loss:  10.8787, duration: 0:00:16.975355\n"
     ]
    }
   ],
   "source": [
    "train_losses, test_losses=batch_gd(model_ann, criterion, optimizer, 150, 128, cnn=False)"
   ]
  },
  {
   "cell_type": "code",
   "execution_count": 62,
   "id": "bd58b214",
   "metadata": {
    "execution": {
     "iopub.execute_input": "2024-03-12T08:15:13.609537Z",
     "iopub.status.busy": "2024-03-12T08:15:13.608869Z",
     "iopub.status.idle": "2024-03-12T08:15:13.796384Z",
     "shell.execute_reply": "2024-03-12T08:15:13.795498Z"
    },
    "papermill": {
     "duration": 0.21791,
     "end_time": "2024-03-12T08:15:13.798222",
     "exception": false,
     "start_time": "2024-03-12T08:15:13.580312",
     "status": "completed"
    },
    "tags": []
   },
   "outputs": [
    {
     "data": {
      "image/png": "[encoded data removed]",
      "text/plain": [
       "<Figure size 640x480 with 1 Axes>"
      ]
     },
     "metadata": {},
     "output_type": "display_data"
    }
   ],
   "source": [
    "# Plot the train loss and test loss per iteration\n",
    "plt.plot(train_losses, label='train loss')\n",
    "plt.plot(test_losses, label='test loss')\n",
    "plt.legend()\n",
    "plt.show()"
   ]
  },
  {
   "cell_type": "code",
   "execution_count": 63,
   "id": "7de67d4a",
   "metadata": {
    "execution": {
     "iopub.execute_input": "2024-03-12T08:15:13.857451Z",
     "iopub.status.busy": "2024-03-12T08:15:13.857118Z",
     "iopub.status.idle": "2024-03-12T08:15:19.459720Z",
     "shell.execute_reply": "2024-03-12T08:15:19.458695Z"
    },
    "papermill": {
     "duration": 5.635408,
     "end_time": "2024-03-12T08:15:19.461806",
     "exception": false,
     "start_time": "2024-03-12T08:15:13.826398",
     "status": "completed"
    },
    "tags": []
   },
   "outputs": [
    {
     "name": "stdout",
     "output_type": "stream",
     "text": [
      "Train acc: 0.1660, Test acc: 0.1539\n"
     ]
    }
   ],
   "source": [
    "train_acc, test_acc = calc_accuracy(model_ann, cnn= False)\n",
    "print(f\"Train acc: {train_acc:.4f}, Test acc: {test_acc:.4f}\")"
   ]
  },
  {
   "cell_type": "code",
   "execution_count": 64,
   "id": "682ff1f4",
   "metadata": {
    "execution": {
     "iopub.execute_input": "2024-03-12T08:15:19.519821Z",
     "iopub.status.busy": "2024-03-12T08:15:19.519035Z",
     "iopub.status.idle": "2024-03-12T08:15:19.531772Z",
     "shell.execute_reply": "2024-03-12T08:15:19.530981Z"
    },
    "papermill": {
     "duration": 0.043379,
     "end_time": "2024-03-12T08:15:19.533634",
     "exception": false,
     "start_time": "2024-03-12T08:15:19.490255",
     "status": "completed"
    },
    "tags": []
   },
   "outputs": [],
   "source": [
    "# SAVE MODEL FOR INFERENCE\n",
    "#https://pytorch.org/tutorials/beginner/saving_loading_models.html\n",
    "torch.save(model_ann, '/kaggle/working/saved_models/ANN_KS_h11.pt')\n",
    "#model = torch.load(PATH)\n",
    "#model.eval()"
   ]
  },
  {
   "cell_type": "code",
   "execution_count": null,
   "id": "19e22771",
   "metadata": {
    "papermill": {
     "duration": 0.02764,
     "end_time": "2024-03-12T08:15:19.589576",
     "exception": false,
     "start_time": "2024-03-12T08:15:19.561936",
     "status": "completed"
    },
    "tags": []
   },
   "outputs": [],
   "source": []
  }
 ],
 "metadata": {
  "kaggle": {
   "accelerator": "nvidiaTeslaT4",
   "dataSources": [
    {
     "datasetId": 4548921,
     "sourceId": 7821225,
     "sourceType": "datasetVersion"
    }
   ],
   "dockerImageVersionId": 30664,
   "isGpuEnabled": true,
   "isInternetEnabled": true,
   "language": "python",
   "sourceType": "notebook"
  },
  "kernelspec": {
   "display_name": "Python 3",
   "language": "python",
   "name": "python3"
  },
  "language_info": {
   "codemirror_mode": {
    "name": "ipython",
    "version": 3
   },
   "file_extension": ".py",
   "mimetype": "text/x-python",
   "name": "python",
   "nbconvert_exporter": "python",
   "pygments_lexer": "ipython3",
   "version": "3.10.13"
  },
  "papermill": {
   "default_parameters": {},
   "duration": 5236.191574,
   "end_time": "2024-03-12T08:15:22.548043",
   "environment_variables": {},
   "exception": null,
   "input_path": "__notebook__.ipynb",
   "output_path": "__notebook__.ipynb",
   "parameters": {},
   "start_time": "2024-03-12T06:48:06.356469",
   "version": "2.5.0"
  }
 },
 "nbformat": 4,
 "nbformat_minor": 5
}
